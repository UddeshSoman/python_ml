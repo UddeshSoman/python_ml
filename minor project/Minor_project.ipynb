{
  "cells": [
    {
      "cell_type": "code",
      "execution_count": null,
      "metadata": {
        "id": "jZsCAz7QbcMM",
        "colab": {
          "base_uri": "https://localhost:8080/"
        },
        "outputId": "ae121696-7a7f-4c5e-85dc-de3d112b6023"
      },
      "outputs": [
        {
          "output_type": "stream",
          "name": "stdout",
          "text": [
            "Wed Mar  9 15:25:11 2022       \n",
            "+-----------------------------------------------------------------------------+\n",
            "| NVIDIA-SMI 460.32.03    Driver Version: 460.32.03    CUDA Version: 11.2     |\n",
            "|-------------------------------+----------------------+----------------------+\n",
            "| GPU  Name        Persistence-M| Bus-Id        Disp.A | Volatile Uncorr. ECC |\n",
            "| Fan  Temp  Perf  Pwr:Usage/Cap|         Memory-Usage | GPU-Util  Compute M. |\n",
            "|                               |                      |               MIG M. |\n",
            "|===============================+======================+======================|\n",
            "|   0  Tesla T4            Off  | 00000000:00:04.0 Off |                    0 |\n",
            "| N/A   38C    P8     9W /  70W |      0MiB / 15109MiB |      0%      Default |\n",
            "|                               |                      |                  N/A |\n",
            "+-------------------------------+----------------------+----------------------+\n",
            "                                                                               \n",
            "+-----------------------------------------------------------------------------+\n",
            "| Processes:                                                                  |\n",
            "|  GPU   GI   CI        PID   Type   Process name                  GPU Memory |\n",
            "|        ID   ID                                                   Usage      |\n",
            "|=============================================================================|\n",
            "|  No running processes found                                                 |\n",
            "+-----------------------------------------------------------------------------+\n"
          ]
        }
      ],
      "source": [
        "gpu_info = !nvidia-smi\n",
        "gpu_info = '\\n'.join(gpu_info)\n",
        "if gpu_info.find('failed') >= 0:\n",
        "  print('Not connected to a GPU')\n",
        "else:\n",
        "  print(gpu_info)"
      ]
    },
    {
      "cell_type": "code",
      "execution_count": null,
      "metadata": {
        "id": "6Rnqnd-vX9B2"
      },
      "outputs": [],
      "source": [
        "from tensorflow.keras.utils import to_categorical\n",
        "from keras.models import Sequential\n",
        "from keras.layers import Conv2D\n",
        "from keras.layers import MaxPooling2D\n",
        "from keras.layers import Dense\n",
        "from keras.layers import Flatten\n",
        "from tensorflow.keras.optimizers import SGD\n",
        "from keras.layers import Dropout\n",
        "from keras.regularizers import l2\n",
        "from tensorflow.keras.preprocessing.image import ImageDataGenerator\n",
        "from keras.callbacks import ModelCheckpoint, EarlyStopping\n",
        "import os\n",
        "from keras.models import Model\n",
        "from tensorflow.keras.optimizers import Adam\n",
        "from keras.applications.vgg16 import VGG16, preprocess_input"
      ]
    },
    {
      "cell_type": "code",
      "execution_count": null,
      "metadata": {
        "id": "1M3_5hDfbRxU"
      },
      "outputs": [],
      "source": [
        "train = '/content/drive/MyDrive/Datasets/Eyes'\n",
        "test = '/content/drive/MyDrive/Datasets/Eyes_test'"
      ]
    },
    {
      "cell_type": "code",
      "execution_count": null,
      "metadata": {
        "colab": {
          "base_uri": "https://localhost:8080/"
        },
        "id": "vwSJ7CcrcGq4",
        "outputId": "5cd7bcca-4c65-4d06-ca61-5eeebceb3bbd"
      },
      "outputs": [
        {
          "output_type": "stream",
          "name": "stdout",
          "text": [
            "Found 1244 images belonging to 2 classes.\n",
            "Found 218 images belonging to 2 classes.\n"
          ]
        }
      ],
      "source": [
        "train_generator = ImageDataGenerator(rotation_range=90, \n",
        "                                     brightness_range=[0.1, 0.7],\n",
        "                                     width_shift_range=0.5, \n",
        "                                     height_shift_range=0.5,\n",
        "                                     horizontal_flip=True, \n",
        "                                     vertical_flip=True,\n",
        "                                     validation_split=0.15,\n",
        "                                     preprocessing_function=preprocess_input) # VGG16 preprocessing\n",
        "\n",
        "#test_generator = ImageDataGenerator(preprocessing_function=preprocess_input)\n",
        "\n",
        "BATCH_SIZE = 64\n",
        "\n",
        "traingen = train_generator.flow_from_directory(train,\n",
        "                                               target_size=(224, 224),\n",
        "                                               class_mode='categorical',\n",
        "                                               subset='training',\n",
        "                                               batch_size=BATCH_SIZE, \n",
        "                                               shuffle=True,\n",
        "                                               seed=42)\n",
        "\n",
        "validgen = train_generator.flow_from_directory(train,\n",
        "                                               target_size=(224, 224),\n",
        "                                               class_mode='categorical',\n",
        "                                               subset='validation',\n",
        "                                               batch_size=BATCH_SIZE,\n",
        "                                               shuffle=True,\n",
        "                                               seed=42)\n",
        "\n",
        "\n"
      ]
    },
    {
      "cell_type": "code",
      "source": [
        "testgen = train_generator.flow_from_directory(test,\n",
        "                                               target_size=(224, 224),\n",
        "                                               class_mode='categorical',\n",
        "                                               batch_size=1, \n",
        "                                               shuffle=True,\n",
        "                                               seed=42)"
      ],
      "metadata": {
        "colab": {
          "base_uri": "https://localhost:8080/"
        },
        "id": "YgDxhxlCmOcb",
        "outputId": "5d0a6a6c-b869-4ee6-ac73-996f1d6023b4"
      },
      "execution_count": null,
      "outputs": [
        {
          "output_type": "stream",
          "name": "stdout",
          "text": [
            "Found 532 images belonging to 2 classes.\n"
          ]
        }
      ]
    },
    {
      "cell_type": "code",
      "source": [
        "def create_model(input_shape, n_classes, optimizer='rmsprop', fine_tune=0):\n",
        "    \"\"\"\n",
        "    Compiles a model integrated with VGG16 pretrained layers\n",
        "    \n",
        "    input_shape: tuple - the shape of input images (width, height, channels)\n",
        "    n_classes: int - number of classes for the output layer\n",
        "    optimizer: string - instantiated optimizer to use for training. Defaults to 'RMSProp'\n",
        "    fine_tune: int - The number of pre-trained layers to unfreeze.\n",
        "                If set to 0, all pretrained layers will freeze during training\n",
        "    \"\"\"\n",
        "    \n",
        "    # Pretrained convolutional layers are loaded using the Imagenet weights.\n",
        "    # Include_top is set to False, in order to exclude the model's fully-connected layers.\n",
        "    conv_base = VGG16(include_top=False,\n",
        "                     weights='imagenet', \n",
        "                     input_shape=input_shape)\n",
        "    \n",
        "    # Defines how many layers to freeze during training.\n",
        "    # Layers in the convolutional base are switched from trainable to non-trainable\n",
        "    # depending on the size of the fine-tuning parameter.\n",
        "    if fine_tune > 0:\n",
        "        for layer in conv_base.layers[:-fine_tune]:\n",
        "            layer.trainable = False\n",
        "    else:\n",
        "        for layer in conv_base.layers:\n",
        "            layer.trainable = False\n",
        "\n",
        "    # Create a new 'top' of the model (i.e. fully-connected layers).\n",
        "    # This is 'bootstrapping' a new top_model onto the pretrained layers.\n",
        "    top_model = conv_base.output\n",
        "    top_model = Flatten(name=\"flatten\")(top_model)\n",
        "    top_model = Dense(4096, activation='relu')(top_model)\n",
        "    top_model = Dense(1072, activation='relu')(top_model)\n",
        "    top_model = Dropout(0.2)(top_model)\n",
        "    output_layer = Dense(n_classes, activation='softmax')(top_model)\n",
        "    \n",
        "    # Group the convolutional base and new fully-connected layers into a Model object.\n",
        "    model = Model(inputs=conv_base.input, outputs=output_layer)\n",
        "\n",
        "    # Compiles the model for training.\n",
        "    model.compile(optimizer=optimizer, \n",
        "                  loss='categorical_crossentropy',\n",
        "                  metrics=['accuracy'])\n",
        "    \n",
        "    return model"
      ],
      "metadata": {
        "id": "51jNzQASTrA1"
      },
      "execution_count": null,
      "outputs": []
    },
    {
      "cell_type": "code",
      "execution_count": null,
      "metadata": {
        "id": "ZeqMMIrfiJGB",
        "colab": {
          "base_uri": "https://localhost:8080/"
        },
        "outputId": "8ca2a3f7-9b4d-4754-a44a-0a5b3ad3931e"
      },
      "outputs": [
        {
          "output_type": "stream",
          "name": "stdout",
          "text": [
            "Downloading data from https://storage.googleapis.com/tensorflow/keras-applications/vgg16/vgg16_weights_tf_dim_ordering_tf_kernels_notop.h5\n",
            "58892288/58889256 [==============================] - 0s 0us/step\n",
            "58900480/58889256 [==============================] - 0s 0us/step\n"
          ]
        }
      ],
      "source": [
        "model = create_model((224,224,3), 2, optimizer='rmsprop', fine_tune=0)"
      ]
    },
    {
      "cell_type": "code",
      "execution_count": null,
      "metadata": {
        "colab": {
          "base_uri": "https://localhost:8080/"
        },
        "id": "3mEFbdK4nmDS",
        "outputId": "657a7ea6-bd9c-4c0c-d3eb-c107234ed986"
      },
      "outputs": [
        {
          "output_type": "stream",
          "name": "stdout",
          "text": [
            "Model: \"model\"\n",
            "_________________________________________________________________\n",
            " Layer (type)                Output Shape              Param #   \n",
            "=================================================================\n",
            " input_1 (InputLayer)        [(None, 224, 224, 3)]     0         \n",
            "                                                                 \n",
            " block1_conv1 (Conv2D)       (None, 224, 224, 64)      1792      \n",
            "                                                                 \n",
            " block1_conv2 (Conv2D)       (None, 224, 224, 64)      36928     \n",
            "                                                                 \n",
            " block1_pool (MaxPooling2D)  (None, 112, 112, 64)      0         \n",
            "                                                                 \n",
            " block2_conv1 (Conv2D)       (None, 112, 112, 128)     73856     \n",
            "                                                                 \n",
            " block2_conv2 (Conv2D)       (None, 112, 112, 128)     147584    \n",
            "                                                                 \n",
            " block2_pool (MaxPooling2D)  (None, 56, 56, 128)       0         \n",
            "                                                                 \n",
            " block3_conv1 (Conv2D)       (None, 56, 56, 256)       295168    \n",
            "                                                                 \n",
            " block3_conv2 (Conv2D)       (None, 56, 56, 256)       590080    \n",
            "                                                                 \n",
            " block3_conv3 (Conv2D)       (None, 56, 56, 256)       590080    \n",
            "                                                                 \n",
            " block3_pool (MaxPooling2D)  (None, 28, 28, 256)       0         \n",
            "                                                                 \n",
            " block4_conv1 (Conv2D)       (None, 28, 28, 512)       1180160   \n",
            "                                                                 \n",
            " block4_conv2 (Conv2D)       (None, 28, 28, 512)       2359808   \n",
            "                                                                 \n",
            " block4_conv3 (Conv2D)       (None, 28, 28, 512)       2359808   \n",
            "                                                                 \n",
            " block4_pool (MaxPooling2D)  (None, 14, 14, 512)       0         \n",
            "                                                                 \n",
            " block5_conv1 (Conv2D)       (None, 14, 14, 512)       2359808   \n",
            "                                                                 \n",
            " block5_conv2 (Conv2D)       (None, 14, 14, 512)       2359808   \n",
            "                                                                 \n",
            " block5_conv3 (Conv2D)       (None, 14, 14, 512)       2359808   \n",
            "                                                                 \n",
            " block5_pool (MaxPooling2D)  (None, 7, 7, 512)         0         \n",
            "                                                                 \n",
            " flatten (Flatten)           (None, 25088)             0         \n",
            "                                                                 \n",
            " dense (Dense)               (None, 4096)              102764544 \n",
            "                                                                 \n",
            " dense_1 (Dense)             (None, 1072)              4391984   \n",
            "                                                                 \n",
            " dropout (Dropout)           (None, 1072)              0         \n",
            "                                                                 \n",
            " dense_2 (Dense)             (None, 2)                 2146      \n",
            "                                                                 \n",
            "=================================================================\n",
            "Total params: 121,873,362\n",
            "Trainable params: 107,158,674\n",
            "Non-trainable params: 14,714,688\n",
            "_________________________________________________________________\n"
          ]
        }
      ],
      "source": [
        "model.summary()"
      ]
    },
    {
      "cell_type": "code",
      "source": [
        "es = EarlyStopping(patience = 10, min_delta = 0.001, monitor = 'accuracy' )\n",
        "hist = model.fit(traingen, steps_per_epoch=20, epochs=100, validation_data=validgen, callbacks = es)"
      ],
      "metadata": {
        "colab": {
          "base_uri": "https://localhost:8080/"
        },
        "id": "80Ulllw-UNfd",
        "outputId": "f76a6198-e080-4ea3-d7a1-6d3003385c0d"
      },
      "execution_count": null,
      "outputs": [
        {
          "output_type": "stream",
          "name": "stdout",
          "text": [
            "Epoch 1/100\n",
            "20/20 [==============================] - 195s 10s/step - loss: 122.6744 - accuracy: 0.7540 - val_loss: 0.1898 - val_accuracy: 0.9404\n",
            "Epoch 2/100\n",
            "20/20 [==============================] - 26s 1s/step - loss: 0.2311 - accuracy: 0.9293 - val_loss: 0.3849 - val_accuracy: 0.9083\n",
            "Epoch 3/100\n",
            "20/20 [==============================] - 26s 1s/step - loss: 0.6667 - accuracy: 0.8818 - val_loss: 0.2986 - val_accuracy: 0.9174\n",
            "Epoch 4/100\n",
            "20/20 [==============================] - 25s 1s/step - loss: 0.3398 - accuracy: 0.9164 - val_loss: 0.9731 - val_accuracy: 0.8532\n",
            "Epoch 5/100\n",
            "20/20 [==============================] - 26s 1s/step - loss: 0.5514 - accuracy: 0.8995 - val_loss: 1.1569 - val_accuracy: 0.8807\n",
            "Epoch 6/100\n",
            "20/20 [==============================] - 25s 1s/step - loss: 0.1800 - accuracy: 0.9502 - val_loss: 0.2909 - val_accuracy: 0.9266\n",
            "Epoch 7/100\n",
            "20/20 [==============================] - 26s 1s/step - loss: 0.2710 - accuracy: 0.9260 - val_loss: 1.0148 - val_accuracy: 0.7202\n",
            "Epoch 8/100\n",
            "20/20 [==============================] - 26s 1s/step - loss: 0.2290 - accuracy: 0.9397 - val_loss: 0.1620 - val_accuracy: 0.9541\n",
            "Epoch 9/100\n",
            "20/20 [==============================] - 26s 1s/step - loss: 0.2454 - accuracy: 0.9526 - val_loss: 0.3777 - val_accuracy: 0.9083\n",
            "Epoch 10/100\n",
            "20/20 [==============================] - 26s 1s/step - loss: 0.1676 - accuracy: 0.9494 - val_loss: 0.1823 - val_accuracy: 0.9587\n",
            "Epoch 11/100\n",
            "20/20 [==============================] - 25s 1s/step - loss: 0.2371 - accuracy: 0.9518 - val_loss: 0.9211 - val_accuracy: 0.8899\n",
            "Epoch 12/100\n",
            "20/20 [==============================] - 25s 1s/step - loss: 0.2031 - accuracy: 0.9550 - val_loss: 0.2034 - val_accuracy: 0.9404\n",
            "Epoch 13/100\n",
            "20/20 [==============================] - 25s 1s/step - loss: 0.1812 - accuracy: 0.9630 - val_loss: 0.4579 - val_accuracy: 0.9266\n",
            "Epoch 14/100\n",
            "20/20 [==============================] - 26s 1s/step - loss: 0.2365 - accuracy: 0.9445 - val_loss: 0.1219 - val_accuracy: 0.9450\n",
            "Epoch 15/100\n",
            "20/20 [==============================] - 25s 1s/step - loss: 0.1353 - accuracy: 0.9614 - val_loss: 0.4713 - val_accuracy: 0.9174\n",
            "Epoch 16/100\n",
            "20/20 [==============================] - 25s 1s/step - loss: 0.1889 - accuracy: 0.9542 - val_loss: 0.1918 - val_accuracy: 0.9495\n",
            "Epoch 17/100\n",
            "20/20 [==============================] - 25s 1s/step - loss: 0.1421 - accuracy: 0.9670 - val_loss: 0.4178 - val_accuracy: 0.9358\n",
            "Epoch 18/100\n",
            "20/20 [==============================] - 25s 1s/step - loss: 0.1782 - accuracy: 0.9670 - val_loss: 0.3213 - val_accuracy: 0.9083\n",
            "Epoch 19/100\n",
            "20/20 [==============================] - 25s 1s/step - loss: 0.1812 - accuracy: 0.9654 - val_loss: 0.5608 - val_accuracy: 0.9312\n",
            "Epoch 20/100\n",
            "20/20 [==============================] - 25s 1s/step - loss: 0.2041 - accuracy: 0.9598 - val_loss: 0.2426 - val_accuracy: 0.9633\n",
            "Epoch 21/100\n",
            "20/20 [==============================] - 26s 1s/step - loss: 0.1096 - accuracy: 0.9735 - val_loss: 0.2509 - val_accuracy: 0.9587\n",
            "Epoch 22/100\n",
            "20/20 [==============================] - 25s 1s/step - loss: 0.2335 - accuracy: 0.9558 - val_loss: 0.2371 - val_accuracy: 0.9220\n",
            "Epoch 23/100\n",
            "20/20 [==============================] - 26s 1s/step - loss: 0.1238 - accuracy: 0.9662 - val_loss: 0.1242 - val_accuracy: 0.9587\n",
            "Epoch 24/100\n",
            "20/20 [==============================] - 25s 1s/step - loss: 0.2109 - accuracy: 0.9695 - val_loss: 0.2275 - val_accuracy: 0.9404\n",
            "Epoch 25/100\n",
            "20/20 [==============================] - 25s 1s/step - loss: 0.0959 - accuracy: 0.9759 - val_loss: 0.3279 - val_accuracy: 0.8899\n",
            "Epoch 26/100\n",
            "20/20 [==============================] - 25s 1s/step - loss: 0.1461 - accuracy: 0.9614 - val_loss: 0.1575 - val_accuracy: 0.9404\n",
            "Epoch 27/100\n",
            "20/20 [==============================] - 26s 1s/step - loss: 0.1481 - accuracy: 0.9630 - val_loss: 0.1097 - val_accuracy: 0.9633\n",
            "Epoch 28/100\n",
            "20/20 [==============================] - 25s 1s/step - loss: 0.1009 - accuracy: 0.9719 - val_loss: 0.2157 - val_accuracy: 0.9404\n",
            "Epoch 29/100\n",
            "20/20 [==============================] - 26s 1s/step - loss: 0.2164 - accuracy: 0.9574 - val_loss: 0.1387 - val_accuracy: 0.9587\n",
            "Epoch 30/100\n",
            "20/20 [==============================] - 25s 1s/step - loss: 0.0909 - accuracy: 0.9775 - val_loss: 0.3062 - val_accuracy: 0.9358\n",
            "Epoch 31/100\n",
            "20/20 [==============================] - 25s 1s/step - loss: 0.1382 - accuracy: 0.9703 - val_loss: 0.4176 - val_accuracy: 0.8670\n",
            "Epoch 32/100\n",
            "20/20 [==============================] - 26s 1s/step - loss: 0.1263 - accuracy: 0.9751 - val_loss: 0.4483 - val_accuracy: 0.9587\n",
            "Epoch 33/100\n",
            "20/20 [==============================] - 25s 1s/step - loss: 0.1894 - accuracy: 0.9670 - val_loss: 0.0975 - val_accuracy: 0.9679\n",
            "Epoch 34/100\n",
            "20/20 [==============================] - 26s 1s/step - loss: 0.0980 - accuracy: 0.9767 - val_loss: 0.3447 - val_accuracy: 0.9220\n",
            "Epoch 35/100\n",
            "20/20 [==============================] - 25s 1s/step - loss: 0.1017 - accuracy: 0.9695 - val_loss: 0.5147 - val_accuracy: 0.9404\n",
            "Epoch 36/100\n",
            "20/20 [==============================] - 25s 1s/step - loss: 0.1185 - accuracy: 0.9751 - val_loss: 0.3519 - val_accuracy: 0.9312\n",
            "Epoch 37/100\n",
            "20/20 [==============================] - 25s 1s/step - loss: 0.1092 - accuracy: 0.9751 - val_loss: 0.3376 - val_accuracy: 0.9495\n",
            "Epoch 38/100\n",
            "20/20 [==============================] - 25s 1s/step - loss: 0.0816 - accuracy: 0.9775 - val_loss: 0.6476 - val_accuracy: 0.9266\n",
            "Epoch 39/100\n",
            "20/20 [==============================] - 26s 1s/step - loss: 0.1111 - accuracy: 0.9799 - val_loss: 0.3929 - val_accuracy: 0.9312\n",
            "Epoch 40/100\n",
            "20/20 [==============================] - 25s 1s/step - loss: 0.1060 - accuracy: 0.9775 - val_loss: 0.3219 - val_accuracy: 0.9450\n",
            "Epoch 41/100\n",
            "20/20 [==============================] - 25s 1s/step - loss: 0.1655 - accuracy: 0.9703 - val_loss: 0.1010 - val_accuracy: 0.9587\n",
            "Epoch 42/100\n",
            "20/20 [==============================] - 26s 1s/step - loss: 0.0991 - accuracy: 0.9775 - val_loss: 0.1498 - val_accuracy: 0.9679\n",
            "Epoch 43/100\n",
            "20/20 [==============================] - 25s 1s/step - loss: 0.1302 - accuracy: 0.9686 - val_loss: 0.1670 - val_accuracy: 0.9404\n",
            "Epoch 44/100\n",
            "20/20 [==============================] - 25s 1s/step - loss: 0.1344 - accuracy: 0.9767 - val_loss: 0.0972 - val_accuracy: 0.9725\n",
            "Epoch 45/100\n",
            "20/20 [==============================] - 25s 1s/step - loss: 0.0634 - accuracy: 0.9799 - val_loss: 0.3813 - val_accuracy: 0.9541\n",
            "Epoch 46/100\n",
            "20/20 [==============================] - 26s 1s/step - loss: 0.1167 - accuracy: 0.9799 - val_loss: 0.2773 - val_accuracy: 0.9495\n",
            "Epoch 47/100\n",
            "20/20 [==============================] - 25s 1s/step - loss: 0.2253 - accuracy: 0.9767 - val_loss: 0.3125 - val_accuracy: 0.9404\n",
            "Epoch 48/100\n",
            "20/20 [==============================] - 26s 1s/step - loss: 0.0970 - accuracy: 0.9807 - val_loss: 0.2355 - val_accuracy: 0.9495\n",
            "Epoch 49/100\n",
            "20/20 [==============================] - 25s 1s/step - loss: 0.0826 - accuracy: 0.9767 - val_loss: 0.2087 - val_accuracy: 0.9679\n"
          ]
        }
      ]
    },
    {
      "cell_type": "markdown",
      "source": [
        ""
      ],
      "metadata": {
        "id": "AcGuixw3bBGO"
      }
    },
    {
      "cell_type": "code",
      "source": [
        ""
      ],
      "metadata": {
        "id": "U7iaH8xsbBAz"
      },
      "execution_count": null,
      "outputs": []
    },
    {
      "cell_type": "code",
      "source": [
        "_, acc = model.evaluate(testgen)\n",
        "print(acc)"
      ],
      "metadata": {
        "colab": {
          "base_uri": "https://localhost:8080/"
        },
        "id": "07MJhChxUz9j",
        "outputId": "9a12ea24-fba8-4ad5-d707-cb1382b7a1d0"
      },
      "execution_count": null,
      "outputs": [
        {
          "output_type": "stream",
          "name": "stdout",
          "text": [
            "532/532 [==============================] - 88s 165ms/step - loss: 0.0799 - accuracy: 0.9774\n",
            "0.9774436354637146\n"
          ]
        }
      ]
    },
    {
      "cell_type": "code",
      "execution_count": null,
      "metadata": {
        "id": "ib-CyB6ajNGL"
      },
      "outputs": [],
      "source": [
        "from matplotlib import pyplot\n",
        "def summarize_diagnostics(history):\n",
        "\t# plot loss\n",
        "\tpyplot.subplot(211)\n",
        "\tpyplot.title('Cross Entropy Loss')\n",
        "\tpyplot.plot(history.history['loss'], color='blue', label='train')\n",
        "\tpyplot.plot(history.history['val_loss'], color='orange', label='test')\n",
        "\t# plot accuracy\n",
        "\tpyplot.subplot(212)\n",
        "\tpyplot.title('Classification Accuracy')\n",
        "\tpyplot.plot(history.history['accuracy'], color='blue', label='train')\n",
        "\tpyplot.plot(history.history['val_accuracy'], color='orange', label='test')\n",
        "\tpyplot.show()"
      ]
    },
    {
      "cell_type": "code",
      "source": [
        "summarize_diagnostics(hist)"
      ],
      "metadata": {
        "colab": {
          "base_uri": "https://localhost:8080/",
          "height": 281
        },
        "id": "h7nq7bURe_-v",
        "outputId": "85d2a3d7-1801-4f4a-a647-abda54ef1b0e"
      },
      "execution_count": null,
      "outputs": [
        {
          "output_type": "display_data",
          "data": {
            "image/png": "[encoded data removed]",
            "text/plain": [
              "<Figure size 432x288 with 2 Axes>"
            ]
          },
          "metadata": {
            "needs_background": "light"
          }
        }
      ]
    },
    {
      "cell_type": "code",
      "source": [
        "model.save('/content/gdrive/My Drive/minor_project_model.h5')"
      ],
      "metadata": {
        "id": "WmwD3OPwfPxy"
      },
      "execution_count": null,
      "outputs": []
    }
  ],
  "metadata": {
    "accelerator": "GPU",
    "colab": {
      "collapsed_sections": [],
      "name": "Minor_project.ipynb",
      "provenance": []
    },
    "kernelspec": {
      "display_name": "Python 3",
      "name": "python3"
    },
    "language_info": {
      "name": "python"
    }
  },
  "nbformat": 4,
  "nbformat_minor": 0
}