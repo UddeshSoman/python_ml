{
 "cells": [
  {
   "cell_type": "markdown",
   "metadata": {},
   "source": [
    "LOGISTIC REGRESSION\n",
    "\n",
    "Problem Statement :\n",
    "\n",
    "\"You have a telecom firm which has collected data of all its customers\"\n",
    "The main types of attributes are :\n",
    "\n",
    "1.Demographics (age, gender etc.)\n",
    "2.Services availed (internet packs purchased, special offers etc)\n",
    "3.Expenses (amount of recharge done per month etc.)\n",
    "Based on all this past information, you want to build a model which will predict whether a particular customer will churn or not.\n",
    "\n",
    "So the variable of interest, i.e. the target variable here is ‘Churn’ which will tell us whether or not a particular customer has churned. It is a binary variable 1 means that the customer has churned and 0 means the customer has not churned.\n",
    "With 21 predictor variables we need to predict whether a particular customer will switch to another telecom provider or not.\n",
    "DATA\n",
    "\n",
    "PROCEDURE\n",
    "\n",
    "Import the required libraries\n",
    "\n",
    "Importing all datasets\n",
    "\n",
    "Merging all datasets based on condition (\"customer_id \")\n",
    "\n",
    "Data Cleaning - checking the null values\n",
    "\n",
    "Check for the missing values and replace them\n",
    "\n",
    "Model building\n",
    "• Binary encoding\n",
    "• One hot encoding\n",
    "• Creating dummy variables and removing the extra columns\n",
    "\n",
    "Feature selection using RFE - Recursive Feature Elimination\n",
    "\n",
    "Getting the predicted values on train set\n",
    "\n",
    "Creating a new column predicted with 1 if churn > 0.5 else 0\n",
    "\n",
    "Create a confusion matrix on train set and test\n",
    "\n",
    "Check the overall accuracy"
   ]
  },
  {
   "cell_type": "code",
   "execution_count": 1,
   "metadata": {},
   "outputs": [],
   "source": [
    "#importing required libraries\n",
    "import numpy as np, pandas as pd, matplotlib.pyplot as plt, seaborn as sns\n",
    "%matplotlib inline"
   ]
  },
  {
   "cell_type": "code",
   "execution_count": 2,
   "metadata": {},
   "outputs": [],
   "source": [
    "#warning handling\n",
    "import warnings\n",
    "warnings.filterwarnings('ignore')"
   ]
  },
  {
   "cell_type": "code",
   "execution_count": 3,
   "metadata": {},
   "outputs": [],
   "source": [
    "#importing datasets\n",
    "demographics = pd.read_csv('customer_data.csv')\n",
    "services = pd.read_csv('internet_data.csv')\n",
    "expenses = pd.read_csv('churn_data.csv')"
   ]
  },
  {
   "cell_type": "markdown",
   "metadata": {},
   "source": [
    "Making basic checks in datasets to get some idea about the data."
   ]
  },
  {
   "cell_type": "code",
   "execution_count": 4,
   "metadata": {},
   "outputs": [
    {
     "data": {
      "text/html": [
       "<div>\n",
       "<style scoped>\n",
       "    .dataframe tbody tr th:only-of-type {\n",
       "        vertical-align: middle;\n",
       "    }\n",
       "\n",
       "    .dataframe tbody tr th {\n",
       "        vertical-align: top;\n",
       "    }\n",
       "\n",
       "    .dataframe thead th {\n",
       "        text-align: right;\n",
       "    }\n",
       "</style>\n",
       "<table border=\"1\" class=\"dataframe\">\n",
       "  <thead>\n",
       "    <tr style=\"text-align: right;\">\n",
       "      <th></th>\n",
       "      <th>customerID</th>\n",
       "      <th>gender</th>\n",
       "      <th>SeniorCitizen</th>\n",
       "      <th>Partner</th>\n",
       "      <th>Dependents</th>\n",
       "    </tr>\n",
       "  </thead>\n",
       "  <tbody>\n",
       "    <tr>\n",
       "      <th>0</th>\n",
       "      <td>7590-VHVEG</td>\n",
       "      <td>Female</td>\n",
       "      <td>0</td>\n",
       "      <td>Yes</td>\n",
       "      <td>No</td>\n",
       "    </tr>\n",
       "    <tr>\n",
       "      <th>1</th>\n",
       "      <td>5575-GNVDE</td>\n",
       "      <td>Male</td>\n",
       "      <td>0</td>\n",
       "      <td>No</td>\n",
       "      <td>No</td>\n",
       "    </tr>\n",
       "    <tr>\n",
       "      <th>2</th>\n",
       "      <td>3668-QPYBK</td>\n",
       "      <td>Male</td>\n",
       "      <td>0</td>\n",
       "      <td>No</td>\n",
       "      <td>No</td>\n",
       "    </tr>\n",
       "    <tr>\n",
       "      <th>3</th>\n",
       "      <td>7795-CFOCW</td>\n",
       "      <td>Male</td>\n",
       "      <td>0</td>\n",
       "      <td>No</td>\n",
       "      <td>No</td>\n",
       "    </tr>\n",
       "    <tr>\n",
       "      <th>4</th>\n",
       "      <td>9237-HQITU</td>\n",
       "      <td>Female</td>\n",
       "      <td>0</td>\n",
       "      <td>No</td>\n",
       "      <td>No</td>\n",
       "    </tr>\n",
       "  </tbody>\n",
       "</table>\n",
       "</div>"
      ],
      "text/plain": [
       "   customerID  gender  SeniorCitizen Partner Dependents\n",
       "0  7590-VHVEG  Female              0     Yes         No\n",
       "1  5575-GNVDE    Male              0      No         No\n",
       "2  3668-QPYBK    Male              0      No         No\n",
       "3  7795-CFOCW    Male              0      No         No\n",
       "4  9237-HQITU  Female              0      No         No"
      ]
     },
     "execution_count": 4,
     "metadata": {},
     "output_type": "execute_result"
    }
   ],
   "source": [
    "demographics.head()"
   ]
  },
  {
   "cell_type": "code",
   "execution_count": 5,
   "metadata": {},
   "outputs": [
    {
     "name": "stdout",
     "output_type": "stream",
     "text": [
      "<class 'pandas.core.frame.DataFrame'>\n",
      "RangeIndex: 7042 entries, 0 to 7041\n",
      "Data columns (total 5 columns):\n",
      " #   Column         Non-Null Count  Dtype \n",
      "---  ------         --------------  ----- \n",
      " 0   customerID     7042 non-null   object\n",
      " 1   gender         7042 non-null   object\n",
      " 2   SeniorCitizen  7042 non-null   int64 \n",
      " 3   Partner        7042 non-null   object\n",
      " 4   Dependents     7042 non-null   object\n",
      "dtypes: int64(1), object(4)\n",
      "memory usage: 275.2+ KB\n"
     ]
    }
   ],
   "source": [
    "demographics.info()"
   ]
  },
  {
   "cell_type": "markdown",
   "metadata": {},
   "source": [
    "The SeniorCitizen column is also catigorical data encoded into binary int64 type.  Not to be treated as numerical."
   ]
  },
  {
   "cell_type": "code",
   "execution_count": 6,
   "metadata": {},
   "outputs": [
    {
     "data": {
      "text/plain": [
       "customerID       0\n",
       "gender           0\n",
       "SeniorCitizen    0\n",
       "Partner          0\n",
       "Dependents       0\n",
       "dtype: int64"
      ]
     },
     "execution_count": 6,
     "metadata": {},
     "output_type": "execute_result"
    }
   ],
   "source": [
    "demographics.isnull().sum() # no nulls so that's great"
   ]
  },
  {
   "cell_type": "code",
   "execution_count": 7,
   "metadata": {},
   "outputs": [
    {
     "data": {
      "text/plain": [
       "customerID       7042\n",
       "gender              2\n",
       "SeniorCitizen       2\n",
       "Partner             2\n",
       "Dependents          2\n",
       "dtype: int64"
      ]
     },
     "execution_count": 7,
     "metadata": {},
     "output_type": "execute_result"
    }
   ],
   "source": [
    "demographics.nunique()"
   ]
  },
  {
   "cell_type": "markdown",
   "metadata": {},
   "source": [
    "Customer id refers to unique customers.  Its unique count is same as that of datasize which means here are no duplicates.\n",
    "\n",
    "All other variables are binary in nature sowe will treat them accordingly in further analysis"
   ]
  },
  {
   "cell_type": "code",
   "execution_count": 8,
   "metadata": {},
   "outputs": [
    {
     "data": {
      "text/html": [
       "<div>\n",
       "<style scoped>\n",
       "    .dataframe tbody tr th:only-of-type {\n",
       "        vertical-align: middle;\n",
       "    }\n",
       "\n",
       "    .dataframe tbody tr th {\n",
       "        vertical-align: top;\n",
       "    }\n",
       "\n",
       "    .dataframe thead th {\n",
       "        text-align: right;\n",
       "    }\n",
       "</style>\n",
       "<table border=\"1\" class=\"dataframe\">\n",
       "  <thead>\n",
       "    <tr style=\"text-align: right;\">\n",
       "      <th></th>\n",
       "      <th>customerID</th>\n",
       "      <th>MultipleLines</th>\n",
       "      <th>InternetService</th>\n",
       "      <th>OnlineSecurity</th>\n",
       "      <th>OnlineBackup</th>\n",
       "      <th>DeviceProtection</th>\n",
       "      <th>TechSupport</th>\n",
       "      <th>StreamingTV</th>\n",
       "      <th>StreamingMovies</th>\n",
       "    </tr>\n",
       "  </thead>\n",
       "  <tbody>\n",
       "    <tr>\n",
       "      <th>0</th>\n",
       "      <td>7590-VHVEG</td>\n",
       "      <td>No phone service</td>\n",
       "      <td>DSL</td>\n",
       "      <td>No</td>\n",
       "      <td>Yes</td>\n",
       "      <td>No</td>\n",
       "      <td>No</td>\n",
       "      <td>No</td>\n",
       "      <td>No</td>\n",
       "    </tr>\n",
       "    <tr>\n",
       "      <th>1</th>\n",
       "      <td>5575-GNVDE</td>\n",
       "      <td>No</td>\n",
       "      <td>DSL</td>\n",
       "      <td>Yes</td>\n",
       "      <td>No</td>\n",
       "      <td>Yes</td>\n",
       "      <td>No</td>\n",
       "      <td>No</td>\n",
       "      <td>No</td>\n",
       "    </tr>\n",
       "    <tr>\n",
       "      <th>2</th>\n",
       "      <td>3668-QPYBK</td>\n",
       "      <td>No</td>\n",
       "      <td>DSL</td>\n",
       "      <td>Yes</td>\n",
       "      <td>Yes</td>\n",
       "      <td>No</td>\n",
       "      <td>No</td>\n",
       "      <td>No</td>\n",
       "      <td>No</td>\n",
       "    </tr>\n",
       "    <tr>\n",
       "      <th>3</th>\n",
       "      <td>7795-CFOCW</td>\n",
       "      <td>No phone service</td>\n",
       "      <td>DSL</td>\n",
       "      <td>Yes</td>\n",
       "      <td>No</td>\n",
       "      <td>Yes</td>\n",
       "      <td>Yes</td>\n",
       "      <td>No</td>\n",
       "      <td>No</td>\n",
       "    </tr>\n",
       "    <tr>\n",
       "      <th>4</th>\n",
       "      <td>9237-HQITU</td>\n",
       "      <td>No</td>\n",
       "      <td>Fiber optic</td>\n",
       "      <td>No</td>\n",
       "      <td>No</td>\n",
       "      <td>No</td>\n",
       "      <td>No</td>\n",
       "      <td>No</td>\n",
       "      <td>No</td>\n",
       "    </tr>\n",
       "  </tbody>\n",
       "</table>\n",
       "</div>"
      ],
      "text/plain": [
       "   customerID     MultipleLines InternetService OnlineSecurity OnlineBackup  \\\n",
       "0  7590-VHVEG  No phone service             DSL             No          Yes   \n",
       "1  5575-GNVDE                No             DSL            Yes           No   \n",
       "2  3668-QPYBK                No             DSL            Yes          Yes   \n",
       "3  7795-CFOCW  No phone service             DSL            Yes           No   \n",
       "4  9237-HQITU                No     Fiber optic             No           No   \n",
       "\n",
       "  DeviceProtection TechSupport StreamingTV StreamingMovies  \n",
       "0               No          No          No              No  \n",
       "1              Yes          No          No              No  \n",
       "2               No          No          No              No  \n",
       "3              Yes         Yes          No              No  \n",
       "4               No          No          No              No  "
      ]
     },
     "execution_count": 8,
     "metadata": {},
     "output_type": "execute_result"
    }
   ],
   "source": [
    "services.head()"
   ]
  },
  {
   "cell_type": "code",
   "execution_count": 9,
   "metadata": {},
   "outputs": [
    {
     "name": "stdout",
     "output_type": "stream",
     "text": [
      "<class 'pandas.core.frame.DataFrame'>\n",
      "RangeIndex: 7042 entries, 0 to 7041\n",
      "Data columns (total 9 columns):\n",
      " #   Column            Non-Null Count  Dtype \n",
      "---  ------            --------------  ----- \n",
      " 0   customerID        7042 non-null   object\n",
      " 1   MultipleLines     7042 non-null   object\n",
      " 2   InternetService   7042 non-null   object\n",
      " 3   OnlineSecurity    7042 non-null   object\n",
      " 4   OnlineBackup      7042 non-null   object\n",
      " 5   DeviceProtection  7042 non-null   object\n",
      " 6   TechSupport       7042 non-null   object\n",
      " 7   StreamingTV       7042 non-null   object\n",
      " 8   StreamingMovies   7042 non-null   object\n",
      "dtypes: object(9)\n",
      "memory usage: 495.3+ KB\n"
     ]
    }
   ],
   "source": [
    "services.info()"
   ]
  },
  {
   "cell_type": "code",
   "execution_count": 10,
   "metadata": {},
   "outputs": [
    {
     "data": {
      "text/plain": [
       "customerID          0\n",
       "MultipleLines       0\n",
       "InternetService     0\n",
       "OnlineSecurity      0\n",
       "OnlineBackup        0\n",
       "DeviceProtection    0\n",
       "TechSupport         0\n",
       "StreamingTV         0\n",
       "StreamingMovies     0\n",
       "dtype: int64"
      ]
     },
     "execution_count": 10,
     "metadata": {},
     "output_type": "execute_result"
    }
   ],
   "source": [
    "services.isnull().sum() # no nulls so that's great"
   ]
  },
  {
   "cell_type": "code",
   "execution_count": 11,
   "metadata": {},
   "outputs": [
    {
     "data": {
      "text/plain": [
       "customerID          7042\n",
       "MultipleLines          3\n",
       "InternetService        3\n",
       "OnlineSecurity         3\n",
       "OnlineBackup           3\n",
       "DeviceProtection       3\n",
       "TechSupport            3\n",
       "StreamingTV            3\n",
       "StreamingMovies        3\n",
       "dtype: int64"
      ]
     },
     "execution_count": 11,
     "metadata": {},
     "output_type": "execute_result"
    }
   ],
   "source": [
    "services.nunique() # no duplicates in this either"
   ]
  },
  {
   "cell_type": "code",
   "execution_count": 12,
   "metadata": {},
   "outputs": [
    {
     "name": "stdout",
     "output_type": "stream",
     "text": [
      "\n",
      "Uniques in MultipleLines are :\n",
      "['No phone service' 'No' 'Yes']\n",
      "\n",
      "Uniques in InternetService are :\n",
      "['DSL' 'Fiber optic' 'No']\n",
      "\n",
      "Uniques in OnlineSecurity are :\n",
      "['No' 'Yes' 'No internet service']\n",
      "\n",
      "Uniques in OnlineBackup are :\n",
      "['Yes' 'No' 'No internet service']\n",
      "\n",
      "Uniques in DeviceProtection are :\n",
      "['No' 'Yes' 'No internet service']\n",
      "\n",
      "Uniques in TechSupport are :\n",
      "['No' 'Yes' 'No internet service']\n",
      "\n",
      "Uniques in StreamingTV are :\n",
      "['No' 'Yes' 'No internet service']\n",
      "\n",
      "Uniques in StreamingMovies are :\n",
      "['No' 'Yes' 'No internet service']\n"
     ]
    }
   ],
   "source": [
    "for index in services.columns[1:]:\n",
    "    print(f'\\nUniques in {index} are :')\n",
    "    print(services[index].unique())"
   ]
  },
  {
   "cell_type": "code",
   "execution_count": 13,
   "metadata": {},
   "outputs": [
    {
     "data": {
      "text/html": [
       "<div>\n",
       "<style scoped>\n",
       "    .dataframe tbody tr th:only-of-type {\n",
       "        vertical-align: middle;\n",
       "    }\n",
       "\n",
       "    .dataframe tbody tr th {\n",
       "        vertical-align: top;\n",
       "    }\n",
       "\n",
       "    .dataframe thead th {\n",
       "        text-align: right;\n",
       "    }\n",
       "</style>\n",
       "<table border=\"1\" class=\"dataframe\">\n",
       "  <thead>\n",
       "    <tr style=\"text-align: right;\">\n",
       "      <th></th>\n",
       "      <th>customerID</th>\n",
       "      <th>tenure</th>\n",
       "      <th>PhoneService</th>\n",
       "      <th>Contract</th>\n",
       "      <th>PaperlessBilling</th>\n",
       "      <th>PaymentMethod</th>\n",
       "      <th>MonthlyCharges</th>\n",
       "      <th>TotalCharges</th>\n",
       "      <th>Churn</th>\n",
       "    </tr>\n",
       "  </thead>\n",
       "  <tbody>\n",
       "    <tr>\n",
       "      <th>0</th>\n",
       "      <td>7590-VHVEG</td>\n",
       "      <td>1</td>\n",
       "      <td>No</td>\n",
       "      <td>Month-to-month</td>\n",
       "      <td>Yes</td>\n",
       "      <td>Electronic check</td>\n",
       "      <td>29.85</td>\n",
       "      <td>29.85</td>\n",
       "      <td>No</td>\n",
       "    </tr>\n",
       "    <tr>\n",
       "      <th>1</th>\n",
       "      <td>5575-GNVDE</td>\n",
       "      <td>34</td>\n",
       "      <td>Yes</td>\n",
       "      <td>One year</td>\n",
       "      <td>No</td>\n",
       "      <td>Mailed check</td>\n",
       "      <td>56.95</td>\n",
       "      <td>1889.5</td>\n",
       "      <td>No</td>\n",
       "    </tr>\n",
       "    <tr>\n",
       "      <th>2</th>\n",
       "      <td>3668-QPYBK</td>\n",
       "      <td>2</td>\n",
       "      <td>Yes</td>\n",
       "      <td>Month-to-month</td>\n",
       "      <td>Yes</td>\n",
       "      <td>Mailed check</td>\n",
       "      <td>53.85</td>\n",
       "      <td>108.15</td>\n",
       "      <td>Yes</td>\n",
       "    </tr>\n",
       "    <tr>\n",
       "      <th>3</th>\n",
       "      <td>7795-CFOCW</td>\n",
       "      <td>45</td>\n",
       "      <td>No</td>\n",
       "      <td>One year</td>\n",
       "      <td>No</td>\n",
       "      <td>Bank transfer (automatic)</td>\n",
       "      <td>42.30</td>\n",
       "      <td>1840.75</td>\n",
       "      <td>No</td>\n",
       "    </tr>\n",
       "    <tr>\n",
       "      <th>4</th>\n",
       "      <td>9237-HQITU</td>\n",
       "      <td>2</td>\n",
       "      <td>Yes</td>\n",
       "      <td>Month-to-month</td>\n",
       "      <td>Yes</td>\n",
       "      <td>Electronic check</td>\n",
       "      <td>70.70</td>\n",
       "      <td>151.65</td>\n",
       "      <td>Yes</td>\n",
       "    </tr>\n",
       "  </tbody>\n",
       "</table>\n",
       "</div>"
      ],
      "text/plain": [
       "   customerID  tenure PhoneService        Contract PaperlessBilling  \\\n",
       "0  7590-VHVEG       1           No  Month-to-month              Yes   \n",
       "1  5575-GNVDE      34          Yes        One year               No   \n",
       "2  3668-QPYBK       2          Yes  Month-to-month              Yes   \n",
       "3  7795-CFOCW      45           No        One year               No   \n",
       "4  9237-HQITU       2          Yes  Month-to-month              Yes   \n",
       "\n",
       "               PaymentMethod  MonthlyCharges TotalCharges Churn  \n",
       "0           Electronic check           29.85        29.85    No  \n",
       "1               Mailed check           56.95       1889.5    No  \n",
       "2               Mailed check           53.85       108.15   Yes  \n",
       "3  Bank transfer (automatic)           42.30      1840.75    No  \n",
       "4           Electronic check           70.70       151.65   Yes  "
      ]
     },
     "execution_count": 13,
     "metadata": {},
     "output_type": "execute_result"
    }
   ],
   "source": [
    "expenses.head()"
   ]
  },
  {
   "cell_type": "code",
   "execution_count": 14,
   "metadata": {},
   "outputs": [
    {
     "name": "stdout",
     "output_type": "stream",
     "text": [
      "<class 'pandas.core.frame.DataFrame'>\n",
      "RangeIndex: 7042 entries, 0 to 7041\n",
      "Data columns (total 9 columns):\n",
      " #   Column            Non-Null Count  Dtype  \n",
      "---  ------            --------------  -----  \n",
      " 0   customerID        7042 non-null   object \n",
      " 1   tenure            7042 non-null   int64  \n",
      " 2   PhoneService      7042 non-null   object \n",
      " 3   Contract          7042 non-null   object \n",
      " 4   PaperlessBilling  7042 non-null   object \n",
      " 5   PaymentMethod     7042 non-null   object \n",
      " 6   MonthlyCharges    7042 non-null   float64\n",
      " 7   TotalCharges      7042 non-null   object \n",
      " 8   Churn             7042 non-null   object \n",
      "dtypes: float64(1), int64(1), object(7)\n",
      "memory usage: 495.3+ KB\n"
     ]
    }
   ],
   "source": [
    "expenses.info()"
   ]
  },
  {
   "cell_type": "markdown",
   "metadata": {},
   "source": [
    "Total charges is clearly a numerical column. We have to exclusively typecast it into float64. We will do this using pandas.to_numeric function.  there might be some erors so we also added exception handling parameter 'coerce'."
   ]
  },
  {
   "cell_type": "code",
   "execution_count": 15,
   "metadata": {},
   "outputs": [],
   "source": [
    "expenses.TotalCharges = pd.to_numeric(expenses.TotalCharges, errors='coerce')"
   ]
  },
  {
   "cell_type": "code",
   "execution_count": 16,
   "metadata": {},
   "outputs": [
    {
     "name": "stdout",
     "output_type": "stream",
     "text": [
      "<class 'pandas.core.frame.DataFrame'>\n",
      "RangeIndex: 7042 entries, 0 to 7041\n",
      "Data columns (total 9 columns):\n",
      " #   Column            Non-Null Count  Dtype  \n",
      "---  ------            --------------  -----  \n",
      " 0   customerID        7042 non-null   object \n",
      " 1   tenure            7042 non-null   int64  \n",
      " 2   PhoneService      7042 non-null   object \n",
      " 3   Contract          7042 non-null   object \n",
      " 4   PaperlessBilling  7042 non-null   object \n",
      " 5   PaymentMethod     7042 non-null   object \n",
      " 6   MonthlyCharges    7042 non-null   float64\n",
      " 7   TotalCharges      7031 non-null   float64\n",
      " 8   Churn             7042 non-null   object \n",
      "dtypes: float64(2), int64(1), object(6)\n",
      "memory usage: 495.3+ KB\n"
     ]
    }
   ],
   "source": [
    "expenses.info()"
   ]
  },
  {
   "cell_type": "code",
   "execution_count": 17,
   "metadata": {},
   "outputs": [
    {
     "data": {
      "text/plain": [
       "customerID           0\n",
       "tenure               0\n",
       "PhoneService         0\n",
       "Contract             0\n",
       "PaperlessBilling     0\n",
       "PaymentMethod        0\n",
       "MonthlyCharges       0\n",
       "TotalCharges        11\n",
       "Churn                0\n",
       "dtype: int64"
      ]
     },
     "execution_count": 17,
     "metadata": {},
     "output_type": "execute_result"
    }
   ],
   "source": [
    "expenses.isnull().sum() # we have few nulls in Total charges column now we will deal with that later."
   ]
  },
  {
   "cell_type": "code",
   "execution_count": 18,
   "metadata": {},
   "outputs": [
    {
     "data": {
      "text/plain": [
       "customerID          7042\n",
       "tenure                73\n",
       "PhoneService           2\n",
       "Contract               3\n",
       "PaperlessBilling       2\n",
       "PaymentMethod          4\n",
       "MonthlyCharges      1585\n",
       "TotalCharges        6529\n",
       "Churn                  2\n",
       "dtype: int64"
      ]
     },
     "execution_count": 18,
     "metadata": {},
     "output_type": "execute_result"
    }
   ],
   "source": [
    "expenses.nunique()"
   ]
  },
  {
   "cell_type": "code",
   "execution_count": 19,
   "metadata": {},
   "outputs": [
    {
     "name": "stdout",
     "output_type": "stream",
     "text": [
      "\n",
      "Uniques in PhoneService are :\n",
      "['No' 'Yes']\n",
      "\n",
      "Uniques in Contract are :\n",
      "['Month-to-month' 'One year' 'Two year']\n",
      "\n",
      "Uniques in PaperlessBilling are :\n",
      "['Yes' 'No']\n",
      "\n",
      "Uniques in PaymentMethod are :\n",
      "['Electronic check' 'Mailed check' 'Bank transfer (automatic)'\n",
      " 'Credit card (automatic)']\n",
      "\n",
      "Uniques in Churn are :\n",
      "['No' 'Yes']\n"
     ]
    }
   ],
   "source": [
    "for index in ['PhoneService','Contract','PaperlessBilling', 'PaymentMethod', 'Churn']:\n",
    "    print(f'\\nUniques in {index} are :')\n",
    "    print(expenses[index].unique())"
   ]
  },
  {
   "cell_type": "code",
   "execution_count": 20,
   "metadata": {},
   "outputs": [],
   "source": [
    "# everything seems good so now we concatinate all the dataframes using pandas.concat.\n",
    "data = pd.merge(demographics, services, on = 'customerID')\n",
    "data = pd.merge(data,expenses, on = 'customerID')"
   ]
  },
  {
   "cell_type": "code",
   "execution_count": 21,
   "metadata": {},
   "outputs": [
    {
     "data": {
      "text/plain": [
       "(7042, 21)"
      ]
     },
     "execution_count": 21,
     "metadata": {},
     "output_type": "execute_result"
    }
   ],
   "source": [
    "data.shape"
   ]
  },
  {
   "cell_type": "code",
   "execution_count": 22,
   "metadata": {},
   "outputs": [
    {
     "data": {
      "text/html": [
       "<div>\n",
       "<style scoped>\n",
       "    .dataframe tbody tr th:only-of-type {\n",
       "        vertical-align: middle;\n",
       "    }\n",
       "\n",
       "    .dataframe tbody tr th {\n",
       "        vertical-align: top;\n",
       "    }\n",
       "\n",
       "    .dataframe thead th {\n",
       "        text-align: right;\n",
       "    }\n",
       "</style>\n",
       "<table border=\"1\" class=\"dataframe\">\n",
       "  <thead>\n",
       "    <tr style=\"text-align: right;\">\n",
       "      <th></th>\n",
       "      <th>customerID</th>\n",
       "      <th>gender</th>\n",
       "      <th>SeniorCitizen</th>\n",
       "      <th>Partner</th>\n",
       "      <th>Dependents</th>\n",
       "      <th>MultipleLines</th>\n",
       "      <th>InternetService</th>\n",
       "      <th>OnlineSecurity</th>\n",
       "      <th>OnlineBackup</th>\n",
       "      <th>DeviceProtection</th>\n",
       "      <th>...</th>\n",
       "      <th>StreamingTV</th>\n",
       "      <th>StreamingMovies</th>\n",
       "      <th>tenure</th>\n",
       "      <th>PhoneService</th>\n",
       "      <th>Contract</th>\n",
       "      <th>PaperlessBilling</th>\n",
       "      <th>PaymentMethod</th>\n",
       "      <th>MonthlyCharges</th>\n",
       "      <th>TotalCharges</th>\n",
       "      <th>Churn</th>\n",
       "    </tr>\n",
       "  </thead>\n",
       "  <tbody>\n",
       "    <tr>\n",
       "      <th>0</th>\n",
       "      <td>7590-VHVEG</td>\n",
       "      <td>Female</td>\n",
       "      <td>0</td>\n",
       "      <td>Yes</td>\n",
       "      <td>No</td>\n",
       "      <td>No phone service</td>\n",
       "      <td>DSL</td>\n",
       "      <td>No</td>\n",
       "      <td>Yes</td>\n",
       "      <td>No</td>\n",
       "      <td>...</td>\n",
       "      <td>No</td>\n",
       "      <td>No</td>\n",
       "      <td>1</td>\n",
       "      <td>No</td>\n",
       "      <td>Month-to-month</td>\n",
       "      <td>Yes</td>\n",
       "      <td>Electronic check</td>\n",
       "      <td>29.85</td>\n",
       "      <td>29.85</td>\n",
       "      <td>No</td>\n",
       "    </tr>\n",
       "    <tr>\n",
       "      <th>1</th>\n",
       "      <td>5575-GNVDE</td>\n",
       "      <td>Male</td>\n",
       "      <td>0</td>\n",
       "      <td>No</td>\n",
       "      <td>No</td>\n",
       "      <td>No</td>\n",
       "      <td>DSL</td>\n",
       "      <td>Yes</td>\n",
       "      <td>No</td>\n",
       "      <td>Yes</td>\n",
       "      <td>...</td>\n",
       "      <td>No</td>\n",
       "      <td>No</td>\n",
       "      <td>34</td>\n",
       "      <td>Yes</td>\n",
       "      <td>One year</td>\n",
       "      <td>No</td>\n",
       "      <td>Mailed check</td>\n",
       "      <td>56.95</td>\n",
       "      <td>1889.50</td>\n",
       "      <td>No</td>\n",
       "    </tr>\n",
       "    <tr>\n",
       "      <th>2</th>\n",
       "      <td>3668-QPYBK</td>\n",
       "      <td>Male</td>\n",
       "      <td>0</td>\n",
       "      <td>No</td>\n",
       "      <td>No</td>\n",
       "      <td>No</td>\n",
       "      <td>DSL</td>\n",
       "      <td>Yes</td>\n",
       "      <td>Yes</td>\n",
       "      <td>No</td>\n",
       "      <td>...</td>\n",
       "      <td>No</td>\n",
       "      <td>No</td>\n",
       "      <td>2</td>\n",
       "      <td>Yes</td>\n",
       "      <td>Month-to-month</td>\n",
       "      <td>Yes</td>\n",
       "      <td>Mailed check</td>\n",
       "      <td>53.85</td>\n",
       "      <td>108.15</td>\n",
       "      <td>Yes</td>\n",
       "    </tr>\n",
       "    <tr>\n",
       "      <th>3</th>\n",
       "      <td>7795-CFOCW</td>\n",
       "      <td>Male</td>\n",
       "      <td>0</td>\n",
       "      <td>No</td>\n",
       "      <td>No</td>\n",
       "      <td>No phone service</td>\n",
       "      <td>DSL</td>\n",
       "      <td>Yes</td>\n",
       "      <td>No</td>\n",
       "      <td>Yes</td>\n",
       "      <td>...</td>\n",
       "      <td>No</td>\n",
       "      <td>No</td>\n",
       "      <td>45</td>\n",
       "      <td>No</td>\n",
       "      <td>One year</td>\n",
       "      <td>No</td>\n",
       "      <td>Bank transfer (automatic)</td>\n",
       "      <td>42.30</td>\n",
       "      <td>1840.75</td>\n",
       "      <td>No</td>\n",
       "    </tr>\n",
       "    <tr>\n",
       "      <th>4</th>\n",
       "      <td>9237-HQITU</td>\n",
       "      <td>Female</td>\n",
       "      <td>0</td>\n",
       "      <td>No</td>\n",
       "      <td>No</td>\n",
       "      <td>No</td>\n",
       "      <td>Fiber optic</td>\n",
       "      <td>No</td>\n",
       "      <td>No</td>\n",
       "      <td>No</td>\n",
       "      <td>...</td>\n",
       "      <td>No</td>\n",
       "      <td>No</td>\n",
       "      <td>2</td>\n",
       "      <td>Yes</td>\n",
       "      <td>Month-to-month</td>\n",
       "      <td>Yes</td>\n",
       "      <td>Electronic check</td>\n",
       "      <td>70.70</td>\n",
       "      <td>151.65</td>\n",
       "      <td>Yes</td>\n",
       "    </tr>\n",
       "  </tbody>\n",
       "</table>\n",
       "<p>5 rows × 21 columns</p>\n",
       "</div>"
      ],
      "text/plain": [
       "   customerID  gender  SeniorCitizen Partner Dependents     MultipleLines  \\\n",
       "0  7590-VHVEG  Female              0     Yes         No  No phone service   \n",
       "1  5575-GNVDE    Male              0      No         No                No   \n",
       "2  3668-QPYBK    Male              0      No         No                No   \n",
       "3  7795-CFOCW    Male              0      No         No  No phone service   \n",
       "4  9237-HQITU  Female              0      No         No                No   \n",
       "\n",
       "  InternetService OnlineSecurity OnlineBackup DeviceProtection  ...  \\\n",
       "0             DSL             No          Yes               No  ...   \n",
       "1             DSL            Yes           No              Yes  ...   \n",
       "2             DSL            Yes          Yes               No  ...   \n",
       "3             DSL            Yes           No              Yes  ...   \n",
       "4     Fiber optic             No           No               No  ...   \n",
       "\n",
       "  StreamingTV StreamingMovies tenure  PhoneService        Contract  \\\n",
       "0          No              No      1            No  Month-to-month   \n",
       "1          No              No     34           Yes        One year   \n",
       "2          No              No      2           Yes  Month-to-month   \n",
       "3          No              No     45            No        One year   \n",
       "4          No              No      2           Yes  Month-to-month   \n",
       "\n",
       "  PaperlessBilling              PaymentMethod MonthlyCharges  TotalCharges  \\\n",
       "0              Yes           Electronic check          29.85         29.85   \n",
       "1               No               Mailed check          56.95       1889.50   \n",
       "2              Yes               Mailed check          53.85        108.15   \n",
       "3               No  Bank transfer (automatic)          42.30       1840.75   \n",
       "4              Yes           Electronic check          70.70        151.65   \n",
       "\n",
       "   Churn  \n",
       "0     No  \n",
       "1     No  \n",
       "2    Yes  \n",
       "3     No  \n",
       "4    Yes  \n",
       "\n",
       "[5 rows x 21 columns]"
      ]
     },
     "execution_count": 22,
     "metadata": {},
     "output_type": "execute_result"
    }
   ],
   "source": [
    "data.head()"
   ]
  },
  {
   "cell_type": "code",
   "execution_count": 23,
   "metadata": {},
   "outputs": [
    {
     "data": {
      "text/plain": [
       "customerID           0\n",
       "gender               0\n",
       "SeniorCitizen        0\n",
       "Partner              0\n",
       "Dependents           0\n",
       "MultipleLines        0\n",
       "InternetService      0\n",
       "OnlineSecurity       0\n",
       "OnlineBackup         0\n",
       "DeviceProtection     0\n",
       "TechSupport          0\n",
       "StreamingTV          0\n",
       "StreamingMovies      0\n",
       "tenure               0\n",
       "PhoneService         0\n",
       "Contract             0\n",
       "PaperlessBilling     0\n",
       "PaymentMethod        0\n",
       "MonthlyCharges       0\n",
       "TotalCharges        11\n",
       "Churn                0\n",
       "dtype: int64"
      ]
     },
     "execution_count": 23,
     "metadata": {},
     "output_type": "execute_result"
    }
   ],
   "source": [
    "data.isnull().sum()"
   ]
  },
  {
   "cell_type": "code",
   "execution_count": 24,
   "metadata": {},
   "outputs": [],
   "source": [
    "# very small number of nulls so we can drop them\n",
    "data.dropna(axis = 0, inplace = True)"
   ]
  },
  {
   "cell_type": "code",
   "execution_count": 25,
   "metadata": {},
   "outputs": [
    {
     "data": {
      "text/plain": [
       "(7031, 21)"
      ]
     },
     "execution_count": 25,
     "metadata": {},
     "output_type": "execute_result"
    }
   ],
   "source": [
    "data.shape"
   ]
  },
  {
   "cell_type": "markdown",
   "metadata": {},
   "source": [
    "We can start exploratory Data Analysis now"
   ]
  },
  {
   "cell_type": "code",
   "execution_count": 26,
   "metadata": {},
   "outputs": [
    {
     "data": {
      "image/png": "[encoded data removed]",
      "text/plain": [
       "<Figure size 1080x360 with 3 Axes>"
      ]
     },
     "metadata": {
      "needs_background": "light"
     },
     "output_type": "display_data"
    }
   ],
   "source": [
    "fig, axs = plt.subplots(1,3, figsize = (15,5))\n",
    "axs[0].set_title('TotalCharges Distribution')\n",
    "p1 = sns.histplot(data = data, x = 'TotalCharges', kde = True, bins = 50, hue = 'Churn', ax = axs[0])\n",
    "axs[1].set_title('MonthlyCharges Distribution')\n",
    "sns.histplot(data = data, x = 'MonthlyCharges', kde = True, bins = 50, hue = 'Churn', ax = axs[1] )\n",
    "axs[2].set_title('Tenure')\n",
    "sns.histplot(data = data, x = 'tenure', kde = True, bins = 50, hue = 'Churn', ax = axs[2] )\n",
    "plt.tight_layout()"
   ]
  },
  {
   "cell_type": "markdown",
   "metadata": {},
   "source": [
    "There is no normal distribution in Total Charges and Monthly charges. However they appear to be strongly related to output. So, we will keep them in Model. The extremes of tenures have high frequency but for most of the data, the curves are flat. We shall keep it in our model and later deal with it based on model accuracy significance."
   ]
  },
  {
   "cell_type": "code",
   "execution_count": 27,
   "metadata": {},
   "outputs": [
    {
     "data": {
      "image/png": "[encoded data removed]",
      "text/plain": [
       "<Figure size 1080x360 with 3 Axes>"
      ]
     },
     "metadata": {
      "needs_background": "light"
     },
     "output_type": "display_data"
    }
   ],
   "source": [
    "fig, axs = plt.subplots(1,3, figsize = (15,5))\n",
    "\n",
    "sns.boxplot(data = data, x = 'TotalCharges',  hue = 'Churn', ax = axs[0])\n",
    "\n",
    "sns.boxplot(data = data, x = 'MonthlyCharges',  hue = 'Churn', ax = axs[1] )\n",
    "\n",
    "sns.boxplot(data = data, x = 'tenure',  hue = 'Churn', ax = axs[2] )\n",
    "plt.tight_layout()"
   ]
  },
  {
   "cell_type": "markdown",
   "metadata": {},
   "source": [
    "Since there are no outliers in our numerical data, there is no need for outlier treatment"
   ]
  },
  {
   "cell_type": "code",
   "execution_count": 28,
   "metadata": {},
   "outputs": [],
   "source": [
    "def categoricalAnalysis(x):\n",
    "    fig, axs = plt.subplots(1,2, figsize = (10,5))\n",
    "    plt.suptitle('Churn Frequency')\n",
    "    axs[0].set_title(x)\n",
    "    p1 = sns.countplot(data = data, x = x, ax = axs[0])\n",
    "    axs[1].set_title('Churn')\n",
    "    p2 = sns.countplot(data = data, x = x, hue = 'Churn', ax = axs[1])\n",
    "    fig.tight_layout()\n",
    "    fig.subplots_adjust(top=0.88)\n",
    "    \n"
   ]
  },
  {
   "cell_type": "code",
   "execution_count": 29,
   "metadata": {},
   "outputs": [
    {
     "data": {
      "image/png": "[encoded data removed]",
      "text/plain": [
       "<Figure size 720x360 with 2 Axes>"
      ]
     },
     "metadata": {
      "needs_background": "light"
     },
     "output_type": "display_data"
    }
   ],
   "source": [
    "categoricalAnalysis('gender')"
   ]
  },
  {
   "cell_type": "markdown",
   "metadata": {},
   "source": [
    "Gender doesn't seem to affect data so we won't consider it in our model."
   ]
  },
  {
   "cell_type": "code",
   "execution_count": 30,
   "metadata": {},
   "outputs": [
    {
     "data": {
      "image/png": "[encoded data removed]",
      "text/plain": [
       "<Figure size 720x360 with 2 Axes>"
      ]
     },
     "metadata": {
      "needs_background": "light"
     },
     "output_type": "display_data"
    }
   ],
   "source": [
    "categoricalAnalysis('SeniorCitizen')"
   ]
  },
  {
   "cell_type": "markdown",
   "metadata": {},
   "source": [
    "Being Senior Citisen highly affects the dependent Variable so we will keep it."
   ]
  },
  {
   "cell_type": "code",
   "execution_count": 31,
   "metadata": {},
   "outputs": [
    {
     "data": {
      "image/png": "[encoded data removed]",
      "text/plain": [
       "<Figure size 720x360 with 2 Axes>"
      ]
     },
     "metadata": {
      "needs_background": "light"
     },
     "output_type": "display_data"
    }
   ],
   "source": [
    "categoricalAnalysis('Partner')"
   ]
  },
  {
   "cell_type": "markdown",
   "metadata": {},
   "source": [
    "Being Partner doesnt seem to have much effect but their individula churn ratios have some variations. Lets keep it in model for now. Drop later if required."
   ]
  },
  {
   "cell_type": "code",
   "execution_count": 32,
   "metadata": {},
   "outputs": [
    {
     "data": {
      "image/png": "[encoded data removed]",
      "text/plain": [
       "<Figure size 720x360 with 2 Axes>"
      ]
     },
     "metadata": {
      "needs_background": "light"
     },
     "output_type": "display_data"
    }
   ],
   "source": [
    "categoricalAnalysis('Dependents')"
   ]
  },
  {
   "cell_type": "markdown",
   "metadata": {},
   "source": [
    "Obviously being Dependent is highly affecting the data so this variable stays."
   ]
  },
  {
   "cell_type": "code",
   "execution_count": 33,
   "metadata": {},
   "outputs": [
    {
     "data": {
      "image/png": "[encoded data removed]",
      "text/plain": [
       "<Figure size 720x360 with 2 Axes>"
      ]
     },
     "metadata": {
      "needs_background": "light"
     },
     "output_type": "display_data"
    }
   ],
   "source": [
    "categoricalAnalysis('InternetService')"
   ]
  },
  {
   "cell_type": "markdown",
   "metadata": {},
   "source": [
    "Due to significant variations InternetServices will be included in model"
   ]
  },
  {
   "cell_type": "code",
   "execution_count": 34,
   "metadata": {},
   "outputs": [
    {
     "data": {
      "image/png": "[encoded data removed]",
      "text/plain": [
       "<Figure size 720x360 with 2 Axes>"
      ]
     },
     "metadata": {
      "needs_background": "light"
     },
     "output_type": "display_data"
    }
   ],
   "source": [
    "categoricalAnalysis('MultipleLines')"
   ]
  },
  {
   "cell_type": "code",
   "execution_count": 35,
   "metadata": {},
   "outputs": [
    {
     "data": {
      "image/png": "[encoded data removed]",
      "text/plain": [
       "<Figure size 720x360 with 2 Axes>"
      ]
     },
     "metadata": {
      "needs_background": "light"
     },
     "output_type": "display_data"
    }
   ],
   "source": [
    "categoricalAnalysis('OnlineSecurity')"
   ]
  },
  {
   "cell_type": "code",
   "execution_count": 36,
   "metadata": {},
   "outputs": [
    {
     "data": {
      "image/png": "[encoded data removed]",
      "text/plain": [
       "<Figure size 720x360 with 2 Axes>"
      ]
     },
     "metadata": {
      "needs_background": "light"
     },
     "output_type": "display_data"
    }
   ],
   "source": [
    "categoricalAnalysis('OnlineBackup')"
   ]
  },
  {
   "cell_type": "code",
   "execution_count": 37,
   "metadata": {},
   "outputs": [
    {
     "data": {
      "image/png": "[encoded data removed]",
      "text/plain": [
       "<Figure size 720x360 with 2 Axes>"
      ]
     },
     "metadata": {
      "needs_background": "light"
     },
     "output_type": "display_data"
    }
   ],
   "source": [
    "categoricalAnalysis('DeviceProtection')"
   ]
  },
  {
   "cell_type": "code",
   "execution_count": 38,
   "metadata": {},
   "outputs": [
    {
     "data": {
      "image/png": "[encoded data removed]",
      "text/plain": [
       "<Figure size 720x360 with 2 Axes>"
      ]
     },
     "metadata": {
      "needs_background": "light"
     },
     "output_type": "display_data"
    }
   ],
   "source": [
    "categoricalAnalysis('TechSupport')"
   ]
  },
  {
   "cell_type": "code",
   "execution_count": 39,
   "metadata": {},
   "outputs": [
    {
     "data": {
      "image/png": "[encoded data removed]",
      "text/plain": [
       "<Figure size 720x360 with 2 Axes>"
      ]
     },
     "metadata": {
      "needs_background": "light"
     },
     "output_type": "display_data"
    }
   ],
   "source": [
    "categoricalAnalysis('StreamingTV')"
   ]
  },
  {
   "cell_type": "markdown",
   "metadata": {},
   "source": [
    "No internet Service data is common in multiple columns and Streaming Tv doent affect churn data so we can drop it."
   ]
  },
  {
   "cell_type": "code",
   "execution_count": 40,
   "metadata": {},
   "outputs": [
    {
     "data": {
      "image/png": "[encoded data removed]",
      "text/plain": [
       "<Figure size 720x360 with 2 Axes>"
      ]
     },
     "metadata": {
      "needs_background": "light"
     },
     "output_type": "display_data"
    }
   ],
   "source": [
    "categoricalAnalysis('StreamingMovies')"
   ]
  },
  {
   "cell_type": "markdown",
   "metadata": {},
   "source": [
    "No internet Service data is common in multiple columns and Streaming movies doent affect churn data so we can drop it."
   ]
  },
  {
   "cell_type": "code",
   "execution_count": 41,
   "metadata": {},
   "outputs": [
    {
     "data": {
      "image/png": "[encoded data removed]",
      "text/plain": [
       "<Figure size 720x360 with 2 Axes>"
      ]
     },
     "metadata": {
      "needs_background": "light"
     },
     "output_type": "display_data"
    }
   ],
   "source": [
    "categoricalAnalysis('PhoneService')"
   ]
  },
  {
   "cell_type": "code",
   "execution_count": 42,
   "metadata": {},
   "outputs": [
    {
     "data": {
      "image/png": "[encoded data removed]",
      "text/plain": [
       "<Figure size 720x360 with 2 Axes>"
      ]
     },
     "metadata": {
      "needs_background": "light"
     },
     "output_type": "display_data"
    }
   ],
   "source": [
    "categoricalAnalysis('Contract')"
   ]
  },
  {
   "cell_type": "code",
   "execution_count": 43,
   "metadata": {},
   "outputs": [
    {
     "data": {
      "image/png": "[encoded data removed]",
      "text/plain": [
       "<Figure size 720x360 with 2 Axes>"
      ]
     },
     "metadata": {
      "needs_background": "light"
     },
     "output_type": "display_data"
    }
   ],
   "source": [
    "categoricalAnalysis('PaperlessBilling')"
   ]
  },
  {
   "cell_type": "code",
   "execution_count": 44,
   "metadata": {},
   "outputs": [
    {
     "data": {
      "image/png": "[encoded data removed]",
      "text/plain": [
       "<Figure size 720x360 with 2 Axes>"
      ]
     },
     "metadata": {
      "needs_background": "light"
     },
     "output_type": "display_data"
    }
   ],
   "source": [
    "categoricalAnalysis('PaymentMethod')"
   ]
  },
  {
   "cell_type": "code",
   "execution_count": 45,
   "metadata": {},
   "outputs": [],
   "source": [
    "#Combining payment methods Bank transfer (automatic), Mailed Check and Credit Card (automatic), as they ahve same frequency \n",
    "#and churning effect but overall payment method data shows variations.\n",
    "data.PaymentMethod.replace(['Mailed check', 'Bank transfer (automatic)', 'Credit card (automatic)'],'others', inplace = True)"
   ]
  },
  {
   "cell_type": "code",
   "execution_count": 46,
   "metadata": {},
   "outputs": [
    {
     "data": {
      "image/png": "[encoded data removed]",
      "text/plain": [
       "<Figure size 720x360 with 2 Axes>"
      ]
     },
     "metadata": {
      "needs_background": "light"
     },
     "output_type": "display_data"
    }
   ],
   "source": [
    "categoricalAnalysis('PaymentMethod')"
   ]
  },
  {
   "cell_type": "code",
   "execution_count": 47,
   "metadata": {},
   "outputs": [
    {
     "data": {
      "text/plain": [
       "['SeniorCitizen',\n",
       " 'Partner',\n",
       " 'Dependents',\n",
       " 'MultipleLines',\n",
       " 'InternetService',\n",
       " 'OnlineSecurity',\n",
       " 'OnlineBackup',\n",
       " 'DeviceProtection',\n",
       " 'TechSupport',\n",
       " 'tenure',\n",
       " 'PhoneService',\n",
       " 'Contract',\n",
       " 'PaperlessBilling',\n",
       " 'PaymentMethod',\n",
       " 'MonthlyCharges',\n",
       " 'TotalCharges',\n",
       " 'Churn']"
      ]
     },
     "execution_count": 47,
     "metadata": {},
     "output_type": "execute_result"
    }
   ],
   "source": [
    "# from our analysis we can select variables that are significant in client churn.\n",
    "varlist = list(data.columns)\n",
    "for x in ['gender','StreamingTV','StreamingMovies', 'customerID']:\n",
    "    varlist.remove(x)\n",
    "varlist"
   ]
  },
  {
   "cell_type": "code",
   "execution_count": 48,
   "metadata": {},
   "outputs": [],
   "source": [
    "final_df = data[varlist]"
   ]
  },
  {
   "cell_type": "code",
   "execution_count": 49,
   "metadata": {},
   "outputs": [],
   "source": [
    "varlist =  ['PhoneService', 'PaperlessBilling', 'Churn', 'Partner', 'Dependents']\n",
    "\n",
    "# Defining the map function\n",
    "def binary_map(x):\n",
    "    return x.map({'Yes': 1, \"No\": 0})\n",
    "\n",
    "\n",
    "final_df[varlist] = final_df[varlist].apply(binary_map)"
   ]
  },
  {
   "cell_type": "code",
   "execution_count": 50,
   "metadata": {},
   "outputs": [
    {
     "data": {
      "text/html": [
       "<div>\n",
       "<style scoped>\n",
       "    .dataframe tbody tr th:only-of-type {\n",
       "        vertical-align: middle;\n",
       "    }\n",
       "\n",
       "    .dataframe tbody tr th {\n",
       "        vertical-align: top;\n",
       "    }\n",
       "\n",
       "    .dataframe thead th {\n",
       "        text-align: right;\n",
       "    }\n",
       "</style>\n",
       "<table border=\"1\" class=\"dataframe\">\n",
       "  <thead>\n",
       "    <tr style=\"text-align: right;\">\n",
       "      <th></th>\n",
       "      <th>SeniorCitizen</th>\n",
       "      <th>Partner</th>\n",
       "      <th>Dependents</th>\n",
       "      <th>MultipleLines</th>\n",
       "      <th>InternetService</th>\n",
       "      <th>OnlineSecurity</th>\n",
       "      <th>OnlineBackup</th>\n",
       "      <th>DeviceProtection</th>\n",
       "      <th>TechSupport</th>\n",
       "      <th>tenure</th>\n",
       "      <th>PhoneService</th>\n",
       "      <th>Contract</th>\n",
       "      <th>PaperlessBilling</th>\n",
       "      <th>PaymentMethod</th>\n",
       "      <th>MonthlyCharges</th>\n",
       "      <th>TotalCharges</th>\n",
       "      <th>Churn</th>\n",
       "    </tr>\n",
       "  </thead>\n",
       "  <tbody>\n",
       "    <tr>\n",
       "      <th>0</th>\n",
       "      <td>0</td>\n",
       "      <td>1</td>\n",
       "      <td>0</td>\n",
       "      <td>No phone service</td>\n",
       "      <td>DSL</td>\n",
       "      <td>No</td>\n",
       "      <td>Yes</td>\n",
       "      <td>No</td>\n",
       "      <td>No</td>\n",
       "      <td>1</td>\n",
       "      <td>0</td>\n",
       "      <td>Month-to-month</td>\n",
       "      <td>1</td>\n",
       "      <td>Electronic check</td>\n",
       "      <td>29.85</td>\n",
       "      <td>29.85</td>\n",
       "      <td>0</td>\n",
       "    </tr>\n",
       "    <tr>\n",
       "      <th>1</th>\n",
       "      <td>0</td>\n",
       "      <td>0</td>\n",
       "      <td>0</td>\n",
       "      <td>No</td>\n",
       "      <td>DSL</td>\n",
       "      <td>Yes</td>\n",
       "      <td>No</td>\n",
       "      <td>Yes</td>\n",
       "      <td>No</td>\n",
       "      <td>34</td>\n",
       "      <td>1</td>\n",
       "      <td>One year</td>\n",
       "      <td>0</td>\n",
       "      <td>others</td>\n",
       "      <td>56.95</td>\n",
       "      <td>1889.50</td>\n",
       "      <td>0</td>\n",
       "    </tr>\n",
       "    <tr>\n",
       "      <th>2</th>\n",
       "      <td>0</td>\n",
       "      <td>0</td>\n",
       "      <td>0</td>\n",
       "      <td>No</td>\n",
       "      <td>DSL</td>\n",
       "      <td>Yes</td>\n",
       "      <td>Yes</td>\n",
       "      <td>No</td>\n",
       "      <td>No</td>\n",
       "      <td>2</td>\n",
       "      <td>1</td>\n",
       "      <td>Month-to-month</td>\n",
       "      <td>1</td>\n",
       "      <td>others</td>\n",
       "      <td>53.85</td>\n",
       "      <td>108.15</td>\n",
       "      <td>1</td>\n",
       "    </tr>\n",
       "    <tr>\n",
       "      <th>3</th>\n",
       "      <td>0</td>\n",
       "      <td>0</td>\n",
       "      <td>0</td>\n",
       "      <td>No phone service</td>\n",
       "      <td>DSL</td>\n",
       "      <td>Yes</td>\n",
       "      <td>No</td>\n",
       "      <td>Yes</td>\n",
       "      <td>Yes</td>\n",
       "      <td>45</td>\n",
       "      <td>0</td>\n",
       "      <td>One year</td>\n",
       "      <td>0</td>\n",
       "      <td>others</td>\n",
       "      <td>42.30</td>\n",
       "      <td>1840.75</td>\n",
       "      <td>0</td>\n",
       "    </tr>\n",
       "    <tr>\n",
       "      <th>4</th>\n",
       "      <td>0</td>\n",
       "      <td>0</td>\n",
       "      <td>0</td>\n",
       "      <td>No</td>\n",
       "      <td>Fiber optic</td>\n",
       "      <td>No</td>\n",
       "      <td>No</td>\n",
       "      <td>No</td>\n",
       "      <td>No</td>\n",
       "      <td>2</td>\n",
       "      <td>1</td>\n",
       "      <td>Month-to-month</td>\n",
       "      <td>1</td>\n",
       "      <td>Electronic check</td>\n",
       "      <td>70.70</td>\n",
       "      <td>151.65</td>\n",
       "      <td>1</td>\n",
       "    </tr>\n",
       "  </tbody>\n",
       "</table>\n",
       "</div>"
      ],
      "text/plain": [
       "   SeniorCitizen  Partner  Dependents     MultipleLines InternetService  \\\n",
       "0              0        1           0  No phone service             DSL   \n",
       "1              0        0           0                No             DSL   \n",
       "2              0        0           0                No             DSL   \n",
       "3              0        0           0  No phone service             DSL   \n",
       "4              0        0           0                No     Fiber optic   \n",
       "\n",
       "  OnlineSecurity OnlineBackup DeviceProtection TechSupport  tenure  \\\n",
       "0             No          Yes               No          No       1   \n",
       "1            Yes           No              Yes          No      34   \n",
       "2            Yes          Yes               No          No       2   \n",
       "3            Yes           No              Yes         Yes      45   \n",
       "4             No           No               No          No       2   \n",
       "\n",
       "   PhoneService        Contract  PaperlessBilling     PaymentMethod  \\\n",
       "0             0  Month-to-month                 1  Electronic check   \n",
       "1             1        One year                 0            others   \n",
       "2             1  Month-to-month                 1            others   \n",
       "3             0        One year                 0            others   \n",
       "4             1  Month-to-month                 1  Electronic check   \n",
       "\n",
       "   MonthlyCharges  TotalCharges  Churn  \n",
       "0           29.85         29.85      0  \n",
       "1           56.95       1889.50      0  \n",
       "2           53.85        108.15      1  \n",
       "3           42.30       1840.75      0  \n",
       "4           70.70        151.65      1  "
      ]
     },
     "execution_count": 50,
     "metadata": {},
     "output_type": "execute_result"
    }
   ],
   "source": [
    "final_df.head()"
   ]
  },
  {
   "cell_type": "code",
   "execution_count": 51,
   "metadata": {},
   "outputs": [],
   "source": [
    "final_df = pd.get_dummies(final_df, drop_first = False)"
   ]
  },
  {
   "cell_type": "code",
   "execution_count": 52,
   "metadata": {},
   "outputs": [
    {
     "data": {
      "text/html": [
       "<div>\n",
       "<style scoped>\n",
       "    .dataframe tbody tr th:only-of-type {\n",
       "        vertical-align: middle;\n",
       "    }\n",
       "\n",
       "    .dataframe tbody tr th {\n",
       "        vertical-align: top;\n",
       "    }\n",
       "\n",
       "    .dataframe thead th {\n",
       "        text-align: right;\n",
       "    }\n",
       "</style>\n",
       "<table border=\"1\" class=\"dataframe\">\n",
       "  <thead>\n",
       "    <tr style=\"text-align: right;\">\n",
       "      <th></th>\n",
       "      <th>SeniorCitizen</th>\n",
       "      <th>Partner</th>\n",
       "      <th>Dependents</th>\n",
       "      <th>tenure</th>\n",
       "      <th>PhoneService</th>\n",
       "      <th>PaperlessBilling</th>\n",
       "      <th>MonthlyCharges</th>\n",
       "      <th>TotalCharges</th>\n",
       "      <th>Churn</th>\n",
       "      <th>MultipleLines_No</th>\n",
       "      <th>...</th>\n",
       "      <th>DeviceProtection_No internet service</th>\n",
       "      <th>DeviceProtection_Yes</th>\n",
       "      <th>TechSupport_No</th>\n",
       "      <th>TechSupport_No internet service</th>\n",
       "      <th>TechSupport_Yes</th>\n",
       "      <th>Contract_Month-to-month</th>\n",
       "      <th>Contract_One year</th>\n",
       "      <th>Contract_Two year</th>\n",
       "      <th>PaymentMethod_Electronic check</th>\n",
       "      <th>PaymentMethod_others</th>\n",
       "    </tr>\n",
       "  </thead>\n",
       "  <tbody>\n",
       "    <tr>\n",
       "      <th>0</th>\n",
       "      <td>0</td>\n",
       "      <td>1</td>\n",
       "      <td>0</td>\n",
       "      <td>1</td>\n",
       "      <td>0</td>\n",
       "      <td>1</td>\n",
       "      <td>29.85</td>\n",
       "      <td>29.85</td>\n",
       "      <td>0</td>\n",
       "      <td>0</td>\n",
       "      <td>...</td>\n",
       "      <td>0</td>\n",
       "      <td>0</td>\n",
       "      <td>1</td>\n",
       "      <td>0</td>\n",
       "      <td>0</td>\n",
       "      <td>1</td>\n",
       "      <td>0</td>\n",
       "      <td>0</td>\n",
       "      <td>1</td>\n",
       "      <td>0</td>\n",
       "    </tr>\n",
       "    <tr>\n",
       "      <th>1</th>\n",
       "      <td>0</td>\n",
       "      <td>0</td>\n",
       "      <td>0</td>\n",
       "      <td>34</td>\n",
       "      <td>1</td>\n",
       "      <td>0</td>\n",
       "      <td>56.95</td>\n",
       "      <td>1889.50</td>\n",
       "      <td>0</td>\n",
       "      <td>1</td>\n",
       "      <td>...</td>\n",
       "      <td>0</td>\n",
       "      <td>1</td>\n",
       "      <td>1</td>\n",
       "      <td>0</td>\n",
       "      <td>0</td>\n",
       "      <td>0</td>\n",
       "      <td>1</td>\n",
       "      <td>0</td>\n",
       "      <td>0</td>\n",
       "      <td>1</td>\n",
       "    </tr>\n",
       "    <tr>\n",
       "      <th>2</th>\n",
       "      <td>0</td>\n",
       "      <td>0</td>\n",
       "      <td>0</td>\n",
       "      <td>2</td>\n",
       "      <td>1</td>\n",
       "      <td>1</td>\n",
       "      <td>53.85</td>\n",
       "      <td>108.15</td>\n",
       "      <td>1</td>\n",
       "      <td>1</td>\n",
       "      <td>...</td>\n",
       "      <td>0</td>\n",
       "      <td>0</td>\n",
       "      <td>1</td>\n",
       "      <td>0</td>\n",
       "      <td>0</td>\n",
       "      <td>1</td>\n",
       "      <td>0</td>\n",
       "      <td>0</td>\n",
       "      <td>0</td>\n",
       "      <td>1</td>\n",
       "    </tr>\n",
       "    <tr>\n",
       "      <th>3</th>\n",
       "      <td>0</td>\n",
       "      <td>0</td>\n",
       "      <td>0</td>\n",
       "      <td>45</td>\n",
       "      <td>0</td>\n",
       "      <td>0</td>\n",
       "      <td>42.30</td>\n",
       "      <td>1840.75</td>\n",
       "      <td>0</td>\n",
       "      <td>0</td>\n",
       "      <td>...</td>\n",
       "      <td>0</td>\n",
       "      <td>1</td>\n",
       "      <td>0</td>\n",
       "      <td>0</td>\n",
       "      <td>1</td>\n",
       "      <td>0</td>\n",
       "      <td>1</td>\n",
       "      <td>0</td>\n",
       "      <td>0</td>\n",
       "      <td>1</td>\n",
       "    </tr>\n",
       "    <tr>\n",
       "      <th>4</th>\n",
       "      <td>0</td>\n",
       "      <td>0</td>\n",
       "      <td>0</td>\n",
       "      <td>2</td>\n",
       "      <td>1</td>\n",
       "      <td>1</td>\n",
       "      <td>70.70</td>\n",
       "      <td>151.65</td>\n",
       "      <td>1</td>\n",
       "      <td>1</td>\n",
       "      <td>...</td>\n",
       "      <td>0</td>\n",
       "      <td>0</td>\n",
       "      <td>1</td>\n",
       "      <td>0</td>\n",
       "      <td>0</td>\n",
       "      <td>1</td>\n",
       "      <td>0</td>\n",
       "      <td>0</td>\n",
       "      <td>1</td>\n",
       "      <td>0</td>\n",
       "    </tr>\n",
       "  </tbody>\n",
       "</table>\n",
       "<p>5 rows × 32 columns</p>\n",
       "</div>"
      ],
      "text/plain": [
       "   SeniorCitizen  Partner  Dependents  tenure  PhoneService  PaperlessBilling  \\\n",
       "0              0        1           0       1             0                 1   \n",
       "1              0        0           0      34             1                 0   \n",
       "2              0        0           0       2             1                 1   \n",
       "3              0        0           0      45             0                 0   \n",
       "4              0        0           0       2             1                 1   \n",
       "\n",
       "   MonthlyCharges  TotalCharges  Churn  MultipleLines_No  ...  \\\n",
       "0           29.85         29.85      0                 0  ...   \n",
       "1           56.95       1889.50      0                 1  ...   \n",
       "2           53.85        108.15      1                 1  ...   \n",
       "3           42.30       1840.75      0                 0  ...   \n",
       "4           70.70        151.65      1                 1  ...   \n",
       "\n",
       "   DeviceProtection_No internet service  DeviceProtection_Yes  TechSupport_No  \\\n",
       "0                                     0                     0               1   \n",
       "1                                     0                     1               1   \n",
       "2                                     0                     0               1   \n",
       "3                                     0                     1               0   \n",
       "4                                     0                     0               1   \n",
       "\n",
       "   TechSupport_No internet service  TechSupport_Yes  Contract_Month-to-month  \\\n",
       "0                                0                0                        1   \n",
       "1                                0                0                        0   \n",
       "2                                0                0                        1   \n",
       "3                                0                1                        0   \n",
       "4                                0                0                        1   \n",
       "\n",
       "   Contract_One year  Contract_Two year  PaymentMethod_Electronic check  \\\n",
       "0                  0                  0                               1   \n",
       "1                  1                  0                               0   \n",
       "2                  0                  0                               0   \n",
       "3                  1                  0                               0   \n",
       "4                  0                  0                               1   \n",
       "\n",
       "   PaymentMethod_others  \n",
       "0                     0  \n",
       "1                     1  \n",
       "2                     1  \n",
       "3                     1  \n",
       "4                     0  \n",
       "\n",
       "[5 rows x 32 columns]"
      ]
     },
     "execution_count": 52,
     "metadata": {},
     "output_type": "execute_result"
    }
   ],
   "source": [
    "final_df.head()"
   ]
  },
  {
   "cell_type": "code",
   "execution_count": 53,
   "metadata": {},
   "outputs": [
    {
     "data": {
      "text/plain": [
       "SeniorCitizen                           0\n",
       "Partner                                 0\n",
       "Dependents                              0\n",
       "tenure                                  0\n",
       "PhoneService                            0\n",
       "PaperlessBilling                        0\n",
       "MonthlyCharges                          0\n",
       "TotalCharges                            0\n",
       "Churn                                   0\n",
       "MultipleLines_No                        0\n",
       "MultipleLines_No phone service          0\n",
       "MultipleLines_Yes                       0\n",
       "InternetService_DSL                     0\n",
       "InternetService_Fiber optic             0\n",
       "InternetService_No                      0\n",
       "OnlineSecurity_No                       0\n",
       "OnlineSecurity_No internet service      0\n",
       "OnlineSecurity_Yes                      0\n",
       "OnlineBackup_No                         0\n",
       "OnlineBackup_No internet service        0\n",
       "OnlineBackup_Yes                        0\n",
       "DeviceProtection_No                     0\n",
       "DeviceProtection_No internet service    0\n",
       "DeviceProtection_Yes                    0\n",
       "TechSupport_No                          0\n",
       "TechSupport_No internet service         0\n",
       "TechSupport_Yes                         0\n",
       "Contract_Month-to-month                 0\n",
       "Contract_One year                       0\n",
       "Contract_Two year                       0\n",
       "PaymentMethod_Electronic check          0\n",
       "PaymentMethod_others                    0\n",
       "dtype: int64"
      ]
     },
     "execution_count": 53,
     "metadata": {},
     "output_type": "execute_result"
    }
   ],
   "source": [
    "final_df.isnull().sum()"
   ]
  },
  {
   "cell_type": "markdown",
   "metadata": {},
   "source": [
    "Model Building"
   ]
  },
  {
   "cell_type": "code",
   "execution_count": 54,
   "metadata": {},
   "outputs": [],
   "source": [
    "from sklearn.model_selection import train_test_split\n",
    "df_train, df_test = train_test_split(final_df, train_size = 0.7, test_size = 0.3, random_state = 42)"
   ]
  },
  {
   "cell_type": "code",
   "execution_count": 55,
   "metadata": {},
   "outputs": [],
   "source": [
    "from sklearn.preprocessing import MinMaxScaler\n",
    "scaler = MinMaxScaler()\n",
    "cols = list(df_train.columns)\n",
    "df_train[cols] = scaler.fit_transform(df_train[cols])"
   ]
  },
  {
   "cell_type": "code",
   "execution_count": 56,
   "metadata": {},
   "outputs": [],
   "source": [
    "y_train = df_train.pop('Churn')\n",
    "x_train = df_train\n"
   ]
  },
  {
   "cell_type": "code",
   "execution_count": 57,
   "metadata": {},
   "outputs": [
    {
     "data": {
      "text/plain": [
       "LogisticRegression(random_state=42, solver='liblinear')"
      ]
     },
     "execution_count": 57,
     "metadata": {},
     "output_type": "execute_result"
    }
   ],
   "source": [
    "from sklearn.linear_model import LogisticRegression\n",
    "\n",
    "\n",
    "# instantiate the model\n",
    "logreg = LogisticRegression(solver='liblinear', random_state=42)\n",
    "\n",
    "\n",
    "# fit the model\n",
    "logreg.fit(x_train, y_train)"
   ]
  },
  {
   "cell_type": "code",
   "execution_count": 58,
   "metadata": {},
   "outputs": [
    {
     "data": {
      "text/plain": [
       "0.8061369640317009"
      ]
     },
     "execution_count": 58,
     "metadata": {},
     "output_type": "execute_result"
    }
   ],
   "source": [
    "# checking accuracy for training data\n",
    "from sklearn.metrics import accuracy_score\n",
    "y_train_predictions = logreg.predict(x_train)\n",
    "accuracy_score(y_train, y_train_predictions)"
   ]
  },
  {
   "cell_type": "code",
   "execution_count": 59,
   "metadata": {},
   "outputs": [
    {
     "data": {
      "text/plain": [
       "0.7985781990521327"
      ]
     },
     "execution_count": 59,
     "metadata": {},
     "output_type": "execute_result"
    }
   ],
   "source": [
    "# checking accuracy for test data\n",
    "cols = list(df_test.columns)\n",
    "df_test[cols] = scaler.fit_transform(df_test[cols])\n",
    "y_test = df_test.pop('Churn')\n",
    "x_test = df_test\n",
    "y_test_predictions = logreg.predict(x_test)\n",
    "accuracy_score(y_test, y_test_predictions)"
   ]
  },
  {
   "cell_type": "code",
   "execution_count": 60,
   "metadata": {},
   "outputs": [
    {
     "name": "stdout",
     "output_type": "stream",
     "text": [
      " Variation between accuracy scores of Training and testing data is 0.75587649795682%\n"
     ]
    }
   ],
   "source": [
    "# there is hardly any variation in test and train scores. so the is negligible overfitting.\n",
    "a = (accuracy_score(y_train, y_train_predictions) - accuracy_score(y_test, y_test_predictions))*100\n",
    "print(f' Variation between accuracy scores of Training and testing data is {a}%')"
   ]
  },
  {
   "cell_type": "code",
   "execution_count": 61,
   "metadata": {},
   "outputs": [
    {
     "data": {
      "text/plain": [
       "LogisticRegression(C=100, random_state=42, solver='liblinear')"
      ]
     },
     "execution_count": 61,
     "metadata": {},
     "output_type": "execute_result"
    }
   ],
   "source": [
    "# Checking accuracy variation for C = 100 i.e. lowering regularization\n",
    "logregc100 = LogisticRegression(C = 100, solver='liblinear', random_state=42)\n",
    "logregc100.fit(x_train, y_train)"
   ]
  },
  {
   "cell_type": "code",
   "execution_count": 62,
   "metadata": {},
   "outputs": [
    {
     "data": {
      "text/plain": [
       "0.8065433854907539"
      ]
     },
     "execution_count": 62,
     "metadata": {},
     "output_type": "execute_result"
    }
   ],
   "source": [
    "# checking accuracy training\n",
    "y_train_predictions = logregc100.predict(x_train)\n",
    "accuracy_score(y_train, y_train_predictions)"
   ]
  },
  {
   "cell_type": "code",
   "execution_count": 63,
   "metadata": {},
   "outputs": [
    {
     "data": {
      "text/plain": [
       "0.7966824644549763"
      ]
     },
     "execution_count": 63,
     "metadata": {},
     "output_type": "execute_result"
    }
   ],
   "source": [
    "# checking accuracy test\n",
    "y_test_predictions = logregc100.predict(x_test)\n",
    "accuracy_score(y_test, y_test_predictions)"
   ]
  },
  {
   "cell_type": "code",
   "execution_count": 64,
   "metadata": {},
   "outputs": [
    {
     "name": "stdout",
     "output_type": "stream",
     "text": [
      " Variation between accuracy scores of Training and testing data is 0.9860921035777626%\n"
     ]
    }
   ],
   "source": [
    "a = (accuracy_score(y_train, y_train_predictions) - accuracy_score(y_test, y_test_predictions))*100\n",
    "print(f' Variation between accuracy scores of Training and testing data is {a}%')"
   ]
  },
  {
   "cell_type": "code",
   "execution_count": 65,
   "metadata": {},
   "outputs": [
    {
     "data": {
      "text/plain": [
       "LogisticRegression(C=0.01, random_state=42, solver='liblinear')"
      ]
     },
     "execution_count": 65,
     "metadata": {},
     "output_type": "execute_result"
    }
   ],
   "source": [
    "# Checking accuracy variation for C = 0.001 i.e. increasing regularization\n",
    "logregc001 = LogisticRegression(C = 0.01, solver='liblinear', random_state=42)\n",
    "logregc001.fit(x_train, y_train)"
   ]
  },
  {
   "cell_type": "code",
   "execution_count": 66,
   "metadata": {},
   "outputs": [
    {
     "data": {
      "text/plain": [
       "0.8028855923592766"
      ]
     },
     "execution_count": 66,
     "metadata": {},
     "output_type": "execute_result"
    }
   ],
   "source": [
    "# checking accuracy training\n",
    "y_train_predictions = logregc001.predict(x_train)\n",
    "accuracy_score(y_train, y_train_predictions)"
   ]
  },
  {
   "cell_type": "code",
   "execution_count": 67,
   "metadata": {},
   "outputs": [
    {
     "data": {
      "text/plain": [
       "0.790521327014218"
      ]
     },
     "execution_count": 67,
     "metadata": {},
     "output_type": "execute_result"
    }
   ],
   "source": [
    "# checking accuracy test\n",
    "y_test_predictions = logregc001.predict(x_test)\n",
    "accuracy_score(y_test, y_test_predictions)"
   ]
  },
  {
   "cell_type": "code",
   "execution_count": 68,
   "metadata": {},
   "outputs": [
    {
     "name": "stdout",
     "output_type": "stream",
     "text": [
      " Variation between accuracy scores of Training and testing data is 1.2364265345058634%\n"
     ]
    }
   ],
   "source": [
    "a = (accuracy_score(y_train, y_train_predictions) - accuracy_score(y_test, y_test_predictions))*100\n",
    "print(f' Variation between accuracy scores of Training and testing data is {a}%')"
   ]
  },
  {
   "cell_type": "markdown",
   "metadata": {},
   "source": [
    "Both training and testing accuracies increase with lowering regualrization and decrease with increasing regularization. The change however is negligible.  Moreover doing either of them increase the difference between Test accuracy and Training accuracy so logistic regression model with regularization factor 1 is suitable for us."
   ]
  },
  {
   "cell_type": "code",
   "execution_count": 69,
   "metadata": {},
   "outputs": [],
   "source": [
    "# for further efficiency analysis we will consider logistic regression model with liblinear solver and c = 1"
   ]
  },
  {
   "cell_type": "code",
   "execution_count": 70,
   "metadata": {},
   "outputs": [
    {
     "name": "stdout",
     "output_type": "stream",
     "text": [
      "Training Accuracy: 0.8061369640317009\n",
      "Training Accuracy: 0.7985781990521327\n",
      "Variation between accuracy scores of Training and testing data is 0.75587649795682%\n"
     ]
    }
   ],
   "source": [
    "logreg.fit(x_train, y_train)\n",
    "y_train_predictions = logreg.predict(x_train)\n",
    "print('Training Accuracy:', accuracy_score(y_train, y_train_predictions))\n",
    "y_test_predictions = logreg.predict(x_test)\n",
    "print('Training Accuracy:', accuracy_score(y_test, y_test_predictions))\n",
    "a = (accuracy_score(y_train, y_train_predictions) - accuracy_score(y_test, y_test_predictions))*100\n",
    "print(f'Variation between accuracy scores of Training and testing data is {a}%')"
   ]
  },
  {
   "cell_type": "code",
   "execution_count": 71,
   "metadata": {},
   "outputs": [
    {
     "data": {
      "text/plain": [
       "0.0    1544\n",
       "1.0     566\n",
       "Name: Churn, dtype: int64"
      ]
     },
     "execution_count": 71,
     "metadata": {},
     "output_type": "execute_result"
    }
   ],
   "source": [
    "\n",
    "y_test.value_counts()"
   ]
  },
  {
   "cell_type": "code",
   "execution_count": 72,
   "metadata": {},
   "outputs": [
    {
     "name": "stdout",
     "output_type": "stream",
     "text": [
      "Null accuracy score: 0.7318\n"
     ]
    }
   ],
   "source": [
    "# null accuracy check\n",
    "null_accuracy = (1544/(1544+566))\n",
    "\n",
    "print('Null accuracy score: {0:0.4f}'. format(null_accuracy))"
   ]
  },
  {
   "cell_type": "markdown",
   "metadata": {},
   "source": [
    "Both Test and Training scores are well above null accuracy so our model is good."
   ]
  },
  {
   "cell_type": "code",
   "execution_count": 73,
   "metadata": {},
   "outputs": [
    {
     "data": {
      "text/plain": [
       "<AxesSubplot:>"
      ]
     },
     "execution_count": 73,
     "metadata": {},
     "output_type": "execute_result"
    },
    {
     "data": {
      "image/png": "[encoded data removed]",
      "text/plain": [
       "<Figure size 432x288 with 2 Axes>"
      ]
     },
     "metadata": {
      "needs_background": "light"
     },
     "output_type": "display_data"
    }
   ],
   "source": [
    "#confusion matrix\n",
    "from sklearn.metrics import confusion_matrix\n",
    "\n",
    "cm = confusion_matrix(y_test, y_test_predictions)\n",
    "mat = pd.DataFrame(cm, index=[ 'Actual Negative','Actual Positive'], \n",
    "                                 columns=[ 'Predict Negative','Predict Positive'])\n",
    "sns.heatmap(mat, annot = True, fmt = 'd')"
   ]
  },
  {
   "cell_type": "code",
   "execution_count": 74,
   "metadata": {},
   "outputs": [],
   "source": [
    "TP = cm[1,1]\n",
    "TN = cm[0,0]\n",
    "FP = cm[0,1]\n",
    "FN = cm[1,0]"
   ]
  },
  {
   "cell_type": "code",
   "execution_count": 75,
   "metadata": {},
   "outputs": [
    {
     "name": "stdout",
     "output_type": "stream",
     "text": [
      "              precision    recall  f1-score   support\n",
      "\n",
      "         0.0       0.84      0.89      0.87      1544\n",
      "         1.0       0.65      0.54      0.59       566\n",
      "\n",
      "    accuracy                           0.80      2110\n",
      "   macro avg       0.75      0.72      0.73      2110\n",
      "weighted avg       0.79      0.80      0.79      2110\n",
      "\n"
     ]
    }
   ],
   "source": [
    "# Classification report Test\n",
    "from sklearn.metrics import classification_report\n",
    "\n",
    "print(classification_report(y_test, y_test_predictions))"
   ]
  },
  {
   "cell_type": "code",
   "execution_count": 76,
   "metadata": {},
   "outputs": [
    {
     "name": "stdout",
     "output_type": "stream",
     "text": [
      "              precision    recall  f1-score   support\n",
      "\n",
      "         0.0       0.85      0.89      0.87      3618\n",
      "         1.0       0.66      0.56      0.61      1303\n",
      "\n",
      "    accuracy                           0.81      4921\n",
      "   macro avg       0.75      0.73      0.74      4921\n",
      "weighted avg       0.80      0.81      0.80      4921\n",
      "\n"
     ]
    }
   ],
   "source": [
    "# Classification report Train\n",
    "from sklearn.metrics import classification_report\n",
    "\n",
    "print(classification_report(y_train, y_train_predictions))"
   ]
  },
  {
   "cell_type": "code",
   "execution_count": 77,
   "metadata": {},
   "outputs": [
    {
     "data": {
      "text/plain": [
       "<AxesSubplot:ylabel='Count'>"
      ]
     },
     "execution_count": 77,
     "metadata": {},
     "output_type": "execute_result"
    },
    {
     "data": {
      "image/png": "[encoded data removed]",
      "text/plain": [
       "<Figure size 432x288 with 1 Axes>"
      ]
     },
     "metadata": {
      "needs_background": "light"
     },
     "output_type": "display_data"
    }
   ],
   "source": [
    "y_pred1 = logreg.predict_proba(x_test)[:, 1]\n",
    "sns.histplot(y_pred1, kde = True)"
   ]
  },
  {
   "cell_type": "markdown",
   "metadata": {},
   "source": [
    "The histogram of prediction values is highly skewed. This is because most customers will not churn."
   ]
  },
  {
   "cell_type": "code",
   "execution_count": 78,
   "metadata": {},
   "outputs": [
    {
     "name": "stdout",
     "output_type": "stream",
     "text": [
      "With 0.1 threshold the Confusion Matrix is\n",
      "[[737 807]\n",
      " [ 35 531]]\n",
      "Correct Predictions: 1268\n",
      "False Positives: 807\n",
      "False Negatives: 35\n",
      "Accuracy: 0.6009478672985782\n",
      "Precision: 0.3968609865470852\n",
      "Sensitivity: 0.9381625441696113\n",
      "Specificity: 0.47733160621761656\n",
      "F1: 0.5577731092436975\n",
      "\n",
      "\n",
      "\n",
      "With 0.2 threshold the Confusion Matrix is\n",
      "[[1004  540]\n",
      " [  87  479]]\n",
      "Correct Predictions: 1483\n",
      "False Positives: 540\n",
      "False Negatives: 87\n",
      "Accuracy: 0.7028436018957346\n",
      "Precision: 0.47006869479882235\n",
      "Sensitivity: 0.8462897526501767\n",
      "Specificity: 0.6502590673575129\n",
      "F1: 0.6044164037854889\n",
      "\n",
      "\n",
      "\n",
      "With 0.3 threshold the Confusion Matrix is\n",
      "[[1160  384]\n",
      " [ 133  433]]\n",
      "Correct Predictions: 1593\n",
      "False Positives: 384\n",
      "False Negatives: 133\n",
      "Accuracy: 0.7549763033175355\n",
      "Precision: 0.5299877600979193\n",
      "Sensitivity: 0.765017667844523\n",
      "Specificity: 0.7512953367875648\n",
      "F1: 0.6261749819233551\n",
      "\n",
      "\n",
      "\n",
      "With 0.4 threshold the Confusion Matrix is\n",
      "[[1291  253]\n",
      " [ 198  368]]\n",
      "Correct Predictions: 1659\n",
      "False Positives: 253\n",
      "False Negatives: 198\n",
      "Accuracy: 0.7862559241706161\n",
      "Precision: 0.5925925925925926\n",
      "Sensitivity: 0.6501766784452296\n",
      "Specificity: 0.836139896373057\n",
      "F1: 0.620050547598989\n",
      "\n",
      "\n",
      "\n",
      "With 0.5 threshold the Confusion Matrix is\n",
      "[[1380  164]\n",
      " [ 261  305]]\n",
      "Correct Predictions: 1685\n",
      "False Positives: 164\n",
      "False Negatives: 261\n",
      "Accuracy: 0.7985781990521327\n",
      "Precision: 0.650319829424307\n",
      "Sensitivity: 0.5388692579505301\n",
      "Specificity: 0.8937823834196891\n",
      "F1: 0.5893719806763286\n",
      "\n",
      "\n",
      "\n",
      "With 0.6 threshold the Confusion Matrix is\n",
      "[[1459   85]\n",
      " [ 351  215]]\n",
      "Correct Predictions: 1674\n",
      "False Positives: 85\n",
      "False Negatives: 351\n",
      "Accuracy: 0.7933649289099526\n",
      "Precision: 0.7166666666666667\n",
      "Sensitivity: 0.37985865724381623\n",
      "Specificity: 0.9449481865284974\n",
      "F1: 0.49653579676674364\n",
      "\n",
      "\n",
      "\n",
      "With 0.7 threshold the Confusion Matrix is\n",
      "[[1522   22]\n",
      " [ 461  105]]\n",
      "Correct Predictions: 1627\n",
      "False Positives: 22\n",
      "False Negatives: 461\n",
      "Accuracy: 0.771090047393365\n",
      "Precision: 0.8267716535433071\n",
      "Sensitivity: 0.1855123674911661\n",
      "Specificity: 0.9857512953367875\n",
      "F1: 0.303030303030303\n",
      "\n",
      "\n",
      "\n",
      "With 0.8 threshold the Confusion Matrix is\n",
      "[[1543    1]\n",
      " [ 556   10]]\n",
      "Correct Predictions: 1553\n",
      "False Positives: 1\n",
      "False Negatives: 556\n",
      "Accuracy: 0.7360189573459716\n",
      "Precision: 0.9090909090909091\n",
      "Sensitivity: 0.0176678445229682\n",
      "Specificity: 0.9993523316062176\n",
      "F1: 0.03466204506065858\n",
      "\n",
      "\n",
      "\n"
     ]
    }
   ],
   "source": [
    "# we will check accuracy for various cutoff thresholds\n",
    "from sklearn.preprocessing import binarize\n",
    "\n",
    "for i in range(1,9):\n",
    "    \n",
    "    cm1=0\n",
    "    \n",
    "    y_pred1 = logreg.predict_proba(x_test)[:,1]\n",
    "    \n",
    "    y_pred1 = y_pred1.reshape(-1,1)\n",
    "    \n",
    "    y_pred2 = binarize(y_pred1, i/10)\n",
    "       \n",
    "    cm1 = confusion_matrix(y_test, y_pred2)\n",
    "    TP = cm1[1,1]\n",
    "    TN = cm1[0,0]\n",
    "    FP = cm1[0,1]\n",
    "    FN = cm1[1,0]\n",
    "    Accuracy  = (accuracy_score(y_test, y_pred2))\n",
    "    Precision  = (TP/(TP+FP))  \n",
    "    Sensitivity =(TP/(TP+FN))\n",
    "    Specificity = (TN/(TN+FP))\n",
    "    F1 = 2*(TP/(TP+FN)*(TP/(TP+FP))/((TP/(TP+FP))+(TP/(TP+FN))))\n",
    "    print(f'With {i/10} threshold the Confusion Matrix is')\n",
    "    print(cm1)\n",
    "    print('Correct Predictions:' ,TP+TN)\n",
    "    print('False Positives:', FP)\n",
    "    print('False Negatives:', FN)\n",
    "    print('Accuracy:',Accuracy)\n",
    "    print('Precision:',Precision)\n",
    "    print('Sensitivity:',Sensitivity)\n",
    "    print('Specificity:',Specificity)\n",
    "    print('F1:', F1)\n",
    "    print('\\n\\n')"
   ]
  },
  {
   "cell_type": "markdown",
   "metadata": {},
   "source": [
    "Given the scores, threshold between 3 to 5 is suggested based on most desirable parameter."
   ]
  },
  {
   "cell_type": "code",
   "execution_count": 96,
   "metadata": {},
   "outputs": [
    {
     "data": {
      "image/png": "[encoded data removed]",
      "text/plain": [
       "<Figure size 1080x360 with 3 Axes>"
      ]
     },
     "metadata": {
      "needs_background": "light"
     },
     "output_type": "display_data"
    }
   ],
   "source": [
    "# plotting ROC Curve\n",
    "# plot ROC Curve\n",
    "\n",
    "from sklearn.metrics import roc_curve\n",
    "y_pred3 = logreg.predict_proba(x_test)[:,1]\n",
    "\n",
    "y_pred4 = logreg.predict_proba(x_test)[:,1]\n",
    "\n",
    "y_pred5 = logreg.predict_proba(x_test)[:,1]\n",
    "\n",
    "fpr3, tpr3, thresholds3 = roc_curve(y_test, y_pred3)\n",
    "fpr4, tpr4, thresholds4 = roc_curve(y_test, y_pred4)\n",
    "fpr5, tpr5, thresholds5 = roc_curve(y_test, y_pred5)\n",
    "\n",
    "\n",
    "fig, axs = plt.subplots(1,3, figsize = (15,5))\n",
    "plt.suptitle('ROC curve for Churn Classifier')\n",
    "axs[0].set_title('Threshold 0.3')\n",
    "sns.lineplot([0,1], [0,1], ax = axs[0] )\n",
    "sns.lineplot(fpr3, tpr3, ax = axs[0] )\n",
    "axs[1].set_title('Threshold 0.4')\n",
    "sns.lineplot([0,1], [0,1], ax = axs[1])\n",
    "sns.lineplot(fpr4, tpr4, ax = axs[1] )\n",
    "axs[2].set_title('Threshold 0.5')\n",
    "sns.lineplot([0,1], [0,1], ax = axs[2] )\n",
    "sns.lineplot(fpr5, tpr5, ax = axs[2] )\n",
    "plt.tight_layout()"
   ]
  },
  {
   "cell_type": "code",
   "execution_count": 97,
   "metadata": {},
   "outputs": [
    {
     "name": "stdout",
     "output_type": "stream",
     "text": [
      "ROC AUC 0.3: 0.8384\n",
      "ROC AUC 0.4: 0.8384\n",
      "ROC AUC 0.5: 0.8384\n"
     ]
    }
   ],
   "source": [
    "from sklearn.metrics import roc_auc_score\n",
    "print('ROC AUC 0.3: {:.4f}'.format(roc_auc_score(y_test, y_pred3)))\n",
    "print('ROC AUC 0.4: {:.4f}'.format(roc_auc_score(y_test, y_pred4)))\n",
    "print('ROC AUC 0.5: {:.4f}'.format(roc_auc_score(y_test, y_pred5)))"
   ]
  },
  {
   "cell_type": "markdown",
   "metadata": {},
   "source": [
    "Clearly the ROC AUC score is close to model accuracy."
   ]
  },
  {
   "cell_type": "code",
   "execution_count": 98,
   "metadata": {},
   "outputs": [
    {
     "name": "stdout",
     "output_type": "stream",
     "text": [
      "Cross-validation scores:[0.82150101 0.80284553 0.81504065 0.76829268 0.79471545 0.80081301\n",
      " 0.79268293 0.82723577 0.79065041 0.83739837]\n"
     ]
    }
   ],
   "source": [
    "from sklearn.model_selection import cross_val_score\n",
    "\n",
    "scores = cross_val_score(logreg, x_train, y_train, cv = 10, scoring='accuracy')\n",
    "\n",
    "print('Cross-validation scores:{}'.format(scores))"
   ]
  },
  {
   "cell_type": "code",
   "execution_count": 99,
   "metadata": {},
   "outputs": [
    {
     "name": "stdout",
     "output_type": "stream",
     "text": [
      "Average 10 fold Cross Validation Accuracy:  0.8051175810946752\n"
     ]
    }
   ],
   "source": [
    "print('Average 10 fold Cross Validation Accuracy: ', scores.mean())"
   ]
  },
  {
   "cell_type": "code",
   "execution_count": 100,
   "metadata": {},
   "outputs": [
    {
     "name": "stdout",
     "output_type": "stream",
     "text": [
      "Cross-validation scores:[0.80094787 0.78672986 0.79620853 0.82938389 0.78199052 0.8056872\n",
      " 0.77251185 0.78199052 0.7535545  0.8056872 ]\n"
     ]
    }
   ],
   "source": [
    "#Cross validation scoring for test data\n",
    "scores = cross_val_score(logreg, x_test, y_test, cv = 10, scoring='accuracy')\n",
    "\n",
    "print('Cross-validation scores:{}'.format(scores))"
   ]
  },
  {
   "cell_type": "code",
   "execution_count": 101,
   "metadata": {},
   "outputs": [
    {
     "name": "stdout",
     "output_type": "stream",
     "text": [
      "Average 10 fold Cross Validation Accuracy for testing data:  0.791469194312796\n"
     ]
    }
   ],
   "source": [
    "print('Average 10 fold Cross Validation Accuracy for testing data: ', scores.mean())"
   ]
  },
  {
   "cell_type": "code",
   "execution_count": 102,
   "metadata": {},
   "outputs": [
    {
     "name": "stdout",
     "output_type": "stream",
     "text": [
      "GridSearch CV best score : 0.8055\n",
      "\n",
      "\n",
      "Parameters that give the best results : \n",
      "\n",
      " {'penalty': 'l1'}\n",
      "\n",
      "\n",
      "Estimator that was chosen by the search : \n",
      "\n",
      " LogisticRegression(penalty='l1', random_state=42, solver='liblinear')\n"
     ]
    }
   ],
   "source": [
    "# Hyperparameter Optimization using GridSearch CV\n",
    "from sklearn.model_selection import GridSearchCV\n",
    "\n",
    "\n",
    "parameters = [{'penalty':['l1','l2']}, \n",
    "              {'C':[0.001, 0.01,0.1, 1, 10, 100, 1000]}]\n",
    "\n",
    "\n",
    "\n",
    "grid_search = GridSearchCV(estimator = logreg,  \n",
    "                           param_grid = parameters,\n",
    "                           scoring = 'accuracy',\n",
    "                           cv = 10,\n",
    "                           verbose=0)\n",
    "\n",
    "\n",
    "grid_search.fit(x_train, y_train)\n",
    "# best score achieved during the GridSearchCV\n",
    "print('GridSearch CV best score : {:.4f}\\n\\n'.format(grid_search.best_score_))\n",
    "\n",
    "# print parameters that give the best results\n",
    "print('Parameters that give the best results :','\\n\\n', (grid_search.best_params_))\n",
    "\n",
    "# print estimator that was chosen by the GridSearch\n",
    "print('\\n\\nEstimator that was chosen by the search :','\\n\\n', (grid_search.best_estimator_))\n",
    "\n"
   ]
  },
  {
   "cell_type": "code",
   "execution_count": 103,
   "metadata": {},
   "outputs": [
    {
     "name": "stdout",
     "output_type": "stream",
     "text": [
      "GridSearch CV score on test set: 0.7995\n"
     ]
    }
   ],
   "source": [
    "print('GridSearch CV score on test set: {0:0.4f}'.format(grid_search.score(x_test, y_test)))"
   ]
  },
  {
   "cell_type": "markdown",
   "metadata": {},
   "source": [
    "Results:\n",
    "\n",
    "Our best suited model is LogisticRegression(C = 1, penalty = 'l1', random_state = 42, solver = 'liblinear')\n",
    "\n",
    "Suitable Threshold values, 0.3, 0.4, 0.5\n",
    "\n",
    "Using this mode we get following scores\n",
    "\n",
    "Training Accuracy: 0.8061369640317009\n",
    "\n",
    "Training Accuracy: 0.7985781990521327\n",
    "\n",
    "Variation between accuracy scores of Training and testing data is 0.75587649795682%"
   ]
  },
  {
   "cell_type": "code",
   "execution_count": 104,
   "metadata": {},
   "outputs": [
    {
     "data": {
      "text/plain": [
       "DecisionTreeClassifier(max_depth=4, random_state=42)"
      ]
     },
     "execution_count": 104,
     "metadata": {},
     "output_type": "execute_result"
    }
   ],
   "source": [
    "#We shall now try decision tree classifier for the same problem\n",
    "from sklearn.tree import DecisionTreeClassifier\n",
    "clf_gini = DecisionTreeClassifier(criterion='gini', max_depth=4, random_state=42)\n",
    "# tried for max depth 5 and 6  best result at 4\n",
    "# fit the model\n",
    "clf_gini.fit(x_train, y_train)"
   ]
  },
  {
   "cell_type": "code",
   "execution_count": 105,
   "metadata": {},
   "outputs": [],
   "source": [
    "train_gini_predictions = clf_gini.predict(x_train)\n",
    "test_gini_predictions = clf_gini.predict(x_test)"
   ]
  },
  {
   "cell_type": "code",
   "execution_count": 106,
   "metadata": {},
   "outputs": [
    {
     "name": "stdout",
     "output_type": "stream",
     "text": [
      "Training Accuracy:  0.7998374314163788\n",
      "Testing Accuracy:  0.7838862559241706\n"
     ]
    }
   ],
   "source": [
    "print('Training Accuracy: ' ,accuracy_score(y_train, train_gini_predictions))\n",
    "print('Testing Accuracy: ' ,accuracy_score(y_test, test_gini_predictions))"
   ]
  },
  {
   "cell_type": "code",
   "execution_count": 107,
   "metadata": {},
   "outputs": [
    {
     "data": {
      "text/plain": [
       "[Text(418.5, 733.86, 'X[26] <= 0.5\\ngini = 0.389\\nsamples = 4921\\nvalue = [3618, 1303]'),\n",
       " Text(209.25, 570.78, 'X[6] <= 0.752\\ngini = 0.122\\nsamples = 2228\\nvalue = [2083, 145]'),\n",
       " Text(104.625, 407.70000000000005, 'X[14] <= 0.5\\ngini = 0.066\\nsamples = 1672\\nvalue = [1615, 57]'),\n",
       " Text(52.3125, 244.62, 'X[7] <= 0.002\\ngini = 0.041\\nsamples = 1329\\nvalue = [1301, 28]'),\n",
       " Text(26.15625, 81.54000000000008, 'gini = 0.32\\nsamples = 10\\nvalue = [8, 2]'),\n",
       " Text(78.46875, 81.54000000000008, 'gini = 0.039\\nsamples = 1319\\nvalue = [1293, 26]'),\n",
       " Text(156.9375, 244.62, 'X[27] <= 0.5\\ngini = 0.155\\nsamples = 343\\nvalue = [314, 29]'),\n",
       " Text(130.78125, 81.54000000000008, 'gini = 0.05\\nsamples = 117\\nvalue = [114, 3]'),\n",
       " Text(183.09375, 81.54000000000008, 'gini = 0.204\\nsamples = 226\\nvalue = [200, 26]'),\n",
       " Text(313.875, 407.70000000000005, 'X[27] <= 0.5\\ngini = 0.266\\nsamples = 556\\nvalue = [468, 88]'),\n",
       " Text(261.5625, 244.62, 'X[6] <= 0.757\\ngini = 0.159\\nsamples = 275\\nvalue = [251, 24]'),\n",
       " Text(235.40625, 81.54000000000008, 'gini = 0.48\\nsamples = 5\\nvalue = [2, 3]'),\n",
       " Text(287.71875, 81.54000000000008, 'gini = 0.143\\nsamples = 270\\nvalue = [249, 21]'),\n",
       " Text(366.1875, 244.62, 'X[7] <= 0.929\\ngini = 0.352\\nsamples = 281\\nvalue = [217, 64]'),\n",
       " Text(340.03125, 81.54000000000008, 'gini = 0.346\\nsamples = 279\\nvalue = [217, 62]'),\n",
       " Text(392.34375, 81.54000000000008, 'gini = 0.0\\nsamples = 2\\nvalue = [0, 2]'),\n",
       " Text(627.75, 570.78, 'X[12] <= 0.5\\ngini = 0.49\\nsamples = 2693\\nvalue = [1535, 1158]'),\n",
       " Text(523.125, 407.70000000000005, 'X[3] <= 0.035\\ngini = 0.403\\nsamples = 1208\\nvalue = [870, 338]'),\n",
       " Text(470.8125, 244.62, 'X[21] <= 0.5\\ngini = 0.493\\nsamples = 402\\nvalue = [225, 177]'),\n",
       " Text(444.65625, 81.54000000000008, 'gini = 0.494\\nsamples = 239\\nvalue = [106, 133]'),\n",
       " Text(496.96875, 81.54000000000008, 'gini = 0.394\\nsamples = 163\\nvalue = [119, 44]'),\n",
       " Text(575.4375, 244.62, 'X[9] <= 0.5\\ngini = 0.32\\nsamples = 806\\nvalue = [645, 161]'),\n",
       " Text(549.28125, 81.54000000000008, 'gini = 0.274\\nsamples = 616\\nvalue = [515, 101]'),\n",
       " Text(601.59375, 81.54000000000008, 'gini = 0.432\\nsamples = 190\\nvalue = [130, 60]'),\n",
       " Text(732.375, 407.70000000000005, 'X[3] <= 0.204\\ngini = 0.495\\nsamples = 1485\\nvalue = [665, 820]'),\n",
       " Text(680.0625, 244.62, 'X[7] <= 0.012\\ngini = 0.421\\nsamples = 726\\nvalue = [219, 507]'),\n",
       " Text(653.90625, 81.54000000000008, 'gini = 0.249\\nsamples = 165\\nvalue = [24, 141]'),\n",
       " Text(706.21875, 81.54000000000008, 'gini = 0.454\\nsamples = 561\\nvalue = [195, 366]'),\n",
       " Text(784.6875, 244.62, 'X[29] <= 0.5\\ngini = 0.485\\nsamples = 759\\nvalue = [446, 313]'),\n",
       " Text(758.53125, 81.54000000000008, 'gini = 0.434\\nsamples = 348\\nvalue = [237, 111]'),\n",
       " Text(810.84375, 81.54000000000008, 'gini = 0.5\\nsamples = 411\\nvalue = [209, 202]')]"
      ]
     },
     "execution_count": 107,
     "metadata": {},
     "output_type": "execute_result"
    },
    {
     "data": {
      "image/png": "[encoded data removed]",
      "text/plain": [
       "<Figure size 1080x1080 with 1 Axes>"
      ]
     },
     "metadata": {
      "needs_background": "light"
     },
     "output_type": "display_data"
    }
   ],
   "source": [
    "plt.figure(figsize=(15,15))\n",
    "\n",
    "from sklearn import tree\n",
    "\n",
    "tree.plot_tree(clf_gini.fit(x_train, y_train))"
   ]
  },
  {
   "cell_type": "code",
   "execution_count": 108,
   "metadata": {},
   "outputs": [
    {
     "data": {
      "text/plain": [
       "<AxesSubplot:>"
      ]
     },
     "execution_count": 108,
     "metadata": {},
     "output_type": "execute_result"
    },
    {
     "data": {
      "image/png": "[encoded data removed]",
      "text/plain": [
       "<Figure size 432x288 with 2 Axes>"
      ]
     },
     "metadata": {
      "needs_background": "light"
     },
     "output_type": "display_data"
    }
   ],
   "source": [
    "cm = confusion_matrix(y_test, test_gini_predictions)\n",
    "mat = pd.DataFrame(cm, index=[ 'Actual Negative','Actual Positive'], \n",
    "                                 columns=[ 'Predict Negative','Predict Positive'])\n",
    "sns.heatmap(mat, annot = True, fmt = 'd')"
   ]
  },
  {
   "cell_type": "code",
   "execution_count": 109,
   "metadata": {},
   "outputs": [],
   "source": [
    "TP = cm[1,1]\n",
    "TN = cm[0,0]\n",
    "FP = cm[0,1]\n",
    "FN = cm[1,0]"
   ]
  },
  {
   "cell_type": "code",
   "execution_count": 111,
   "metadata": {},
   "outputs": [
    {
     "name": "stdout",
     "output_type": "stream",
     "text": [
      "Correct Predictions: 1654\n",
      "False Positives: 162\n",
      "False Negatives: 294\n",
      "Accuracy: 0.7838862559241706\n",
      "Precision: 0.6267281105990783\n",
      "Sensitivity: 0.48056537102473496\n",
      "Specificity: 0.8950777202072538\n",
      "F1: 0.544\n"
     ]
    }
   ],
   "source": [
    "Accuracy  = (accuracy_score(y_test, test_gini_predictions))\n",
    "Precision  = (TP/(TP+FP))  \n",
    "Sensitivity =(TP/(TP+FN))\n",
    "Specificity = (TN/(TN+FP))\n",
    "F1 = 2*(TP/(TP+FN)*(TP/(TP+FP))/((TP/(TP+FP))+(TP/(TP+FN))))\n",
    "print('Correct Predictions:' ,TP+TN)\n",
    "print('False Positives:', FP)\n",
    "print('False Negatives:', FN)\n",
    "print('Accuracy:',Accuracy)\n",
    "print('Precision:',Precision)\n",
    "print('Sensitivity:',Sensitivity)\n",
    "print('Specificity:',Specificity)\n",
    "print('F1:', F1)\n",
    " "
   ]
  },
  {
   "cell_type": "code",
   "execution_count": 141,
   "metadata": {},
   "outputs": [
    {
     "name": "stdout",
     "output_type": "stream",
     "text": [
      "              precision    recall  f1-score   support\n",
      "\n",
      "         0.0       0.82      0.90      0.86      1544\n",
      "         1.0       0.63      0.48      0.54       566\n",
      "\n",
      "    accuracy                           0.78      2110\n",
      "   macro avg       0.73      0.69      0.70      2110\n",
      "weighted avg       0.77      0.78      0.77      2110\n",
      "\n"
     ]
    }
   ],
   "source": [
    "print(classification_report(y_test, test_gini_predictions))"
   ]
  },
  {
   "cell_type": "code",
   "execution_count": 128,
   "metadata": {},
   "outputs": [
    {
     "data": {
      "text/plain": [
       "<AxesSubplot:>"
      ]
     },
     "execution_count": 128,
     "metadata": {},
     "output_type": "execute_result"
    },
    {
     "data": {
      "image/png": "[encoded data removed]",
      "text/plain": [
       "<Figure size 432x288 with 1 Axes>"
      ]
     },
     "metadata": {
      "needs_background": "light"
     },
     "output_type": "display_data"
    }
   ],
   "source": [
    "y_pred = clf_gini.predict_proba(x_test)[:,1]\n",
    "fpr, tpr, thresholds = roc_curve(y_test, y_pred)\n",
    "sns.lineplot([0,1], [0,1])\n",
    "sns.lineplot(fpr, tpr)"
   ]
  },
  {
   "cell_type": "code",
   "execution_count": 129,
   "metadata": {},
   "outputs": [
    {
     "name": "stdout",
     "output_type": "stream",
     "text": [
      "ROC AUC: 0.8197\n"
     ]
    }
   ],
   "source": [
    "print('ROC AUC: {:.4f}'.format(roc_auc_score(y_test, y_pred)))"
   ]
  },
  {
   "cell_type": "code",
   "execution_count": 130,
   "metadata": {},
   "outputs": [
    {
     "name": "stdout",
     "output_type": "stream",
     "text": [
      "Cross-validation scores:[0.77484787 0.79471545 0.80691057 0.7601626  0.7703252  0.80284553\n",
      " 0.77235772 0.80691057 0.79878049 0.82520325]\n"
     ]
    }
   ],
   "source": [
    "scores = cross_val_score(clf_gini, x_train, y_train, cv = 10, scoring='accuracy')\n",
    "\n",
    "print('Cross-validation scores:{}'.format(scores))\n",
    "print('Average 10 fold Cross Validation Accuracy for testing data: ', scores.mean())"
   ]
  },
  {
   "cell_type": "code",
   "execution_count": 132,
   "metadata": {},
   "outputs": [
    {
     "name": "stdout",
     "output_type": "stream",
     "text": [
      "GridSearch CV best score : 0.7964\n",
      "\n",
      "\n",
      "Parameters that give the best results : \n",
      "\n",
      " {'max_depth': 5}\n",
      "\n",
      "\n",
      "Estimator that was chosen by the search : \n",
      "\n",
      " DecisionTreeClassifier(max_depth=5, random_state=42)\n"
     ]
    }
   ],
   "source": [
    "parameters = [{'max_depth':[3,4,5]}]\n",
    "\n",
    "\n",
    "\n",
    "grid_search = GridSearchCV(estimator = clf_gini,  \n",
    "                           param_grid = parameters,\n",
    "                           scoring = 'accuracy',\n",
    "                           cv = 10,\n",
    "                           verbose=0)\n",
    "\n",
    "\n",
    "grid_search.fit(x_train, y_train)\n",
    "# best score achieved during the GridSearchCV\n",
    "print('GridSearch CV best score : {:.4f}\\n\\n'.format(grid_search.best_score_))\n",
    "\n",
    "# print parameters that give the best results\n",
    "print('Parameters that give the best results :','\\n\\n', (grid_search.best_params_))\n",
    "\n",
    "# print estimator that was chosen by the GridSearch\n",
    "print('\\n\\nEstimator that was chosen by the search :','\\n\\n', (grid_search.best_estimator_))\n",
    "\n",
    "print('GridSearch CV score on test set: {0:0.4f}'.format(grid_search.score(x_test, y_test)))"
   ]
  },
  {
   "cell_type": "code",
   "execution_count": 134,
   "metadata": {},
   "outputs": [
    {
     "data": {
      "text/plain": [
       "DecisionTreeClassifier(criterion='entropy', max_depth=5, random_state=0)"
      ]
     },
     "execution_count": 134,
     "metadata": {},
     "output_type": "execute_result"
    }
   ],
   "source": [
    "clf_en = DecisionTreeClassifier(criterion='entropy', max_depth=5, random_state=0)\n",
    "clf_en.fit(x_train,y_train)"
   ]
  },
  {
   "cell_type": "code",
   "execution_count": 135,
   "metadata": {},
   "outputs": [
    {
     "name": "stdout",
     "output_type": "stream",
     "text": [
      "Training Accuracy:  0.8053241211135947\n",
      "Testing Accuracy:  0.7838862559241706\n"
     ]
    }
   ],
   "source": [
    "train_en_predictions = clf_en.predict(x_train)\n",
    "test_en_predictions = clf_en.predict(x_test)\n",
    "print('Training Accuracy: ' ,accuracy_score(y_train, train_en_predictions))\n",
    "print('Testing Accuracy: ' ,accuracy_score(y_test, test_en_predictions))"
   ]
  },
  {
   "cell_type": "code",
   "execution_count": 136,
   "metadata": {},
   "outputs": [
    {
     "data": {
      "text/plain": [
       "[Text(325.83214285714286, 398.64, 'X[26] <= 0.5\\nentropy = 0.834\\nsamples = 4921\\nvalue = [3618, 1303]'),\n",
       " Text(173.37857142857143, 326.15999999999997, 'X[6] <= 0.752\\nentropy = 0.347\\nsamples = 2228\\nvalue = [2083, 145]'),\n",
       " Text(95.65714285714286, 253.67999999999998, 'X[28] <= 0.5\\nentropy = 0.215\\nsamples = 1672\\nvalue = [1615, 57]'),\n",
       " Text(47.82857142857143, 181.2, 'X[6] <= 0.24\\nentropy = 0.335\\nsamples = 759\\nvalue = [712, 47]'),\n",
       " Text(23.914285714285715, 108.71999999999997, 'X[7] <= 0.002\\nentropy = 0.141\\nsamples = 300\\nvalue = [294, 6]'),\n",
       " Text(11.957142857142857, 36.23999999999995, 'entropy = 0.811\\nsamples = 8\\nvalue = [6, 2]'),\n",
       " Text(35.871428571428574, 36.23999999999995, 'entropy = 0.104\\nsamples = 292\\nvalue = [288, 4]'),\n",
       " Text(71.74285714285715, 108.71999999999997, 'X[6] <= 0.244\\nentropy = 0.434\\nsamples = 459\\nvalue = [418, 41]'),\n",
       " Text(59.785714285714285, 36.23999999999995, 'entropy = 0.0\\nsamples = 1\\nvalue = [0, 1]'),\n",
       " Text(83.7, 36.23999999999995, 'entropy = 0.428\\nsamples = 458\\nvalue = [418, 40]'),\n",
       " Text(143.4857142857143, 181.2, 'X[30] <= 0.5\\nentropy = 0.087\\nsamples = 913\\nvalue = [903, 10]'),\n",
       " Text(119.57142857142857, 108.71999999999997, 'X[9] <= 0.5\\nentropy = 0.376\\nsamples = 55\\nvalue = [51, 4]'),\n",
       " Text(107.61428571428571, 36.23999999999995, 'entropy = 0.156\\nsamples = 44\\nvalue = [43, 1]'),\n",
       " Text(131.52857142857144, 36.23999999999995, 'entropy = 0.845\\nsamples = 11\\nvalue = [8, 3]'),\n",
       " Text(167.4, 108.71999999999997, 'X[3] <= 0.923\\nentropy = 0.06\\nsamples = 858\\nvalue = [852, 6]'),\n",
       " Text(155.44285714285715, 36.23999999999995, 'entropy = 0.091\\nsamples = 518\\nvalue = [512, 6]'),\n",
       " Text(179.35714285714286, 36.23999999999995, 'entropy = 0.0\\nsamples = 340\\nvalue = [340, 0]'),\n",
       " Text(251.1, 253.67999999999998, 'X[27] <= 0.5\\nentropy = 0.63\\nsamples = 556\\nvalue = [468, 88]'),\n",
       " Text(227.18571428571428, 181.2, 'X[7] <= 0.905\\nentropy = 0.427\\nsamples = 275\\nvalue = [251, 24]'),\n",
       " Text(215.22857142857143, 108.71999999999997, 'X[6] <= 0.874\\nentropy = 0.511\\nsamples = 211\\nvalue = [187, 24]'),\n",
       " Text(203.27142857142857, 36.23999999999995, 'entropy = 0.345\\nsamples = 124\\nvalue = [116, 8]'),\n",
       " Text(227.18571428571428, 36.23999999999995, 'entropy = 0.689\\nsamples = 87\\nvalue = [71, 16]'),\n",
       " Text(239.14285714285714, 108.71999999999997, 'entropy = 0.0\\nsamples = 64\\nvalue = [64, 0]'),\n",
       " Text(275.01428571428573, 181.2, 'X[7] <= 0.929\\nentropy = 0.774\\nsamples = 281\\nvalue = [217, 64]'),\n",
       " Text(263.0571428571429, 108.71999999999997, 'X[3] <= 0.979\\nentropy = 0.764\\nsamples = 279\\nvalue = [217, 62]'),\n",
       " Text(251.1, 36.23999999999995, 'entropy = 0.789\\nsamples = 262\\nvalue = [200, 62]'),\n",
       " Text(275.01428571428573, 36.23999999999995, 'entropy = 0.0\\nsamples = 17\\nvalue = [17, 0]'),\n",
       " Text(286.9714285714286, 108.71999999999997, 'entropy = 0.0\\nsamples = 2\\nvalue = [0, 2]'),\n",
       " Text(478.2857142857143, 326.15999999999997, 'X[12] <= 0.5\\nentropy = 0.986\\nsamples = 2693\\nvalue = [1535, 1158]'),\n",
       " Text(382.62857142857143, 253.67999999999998, 'X[3] <= 0.035\\nentropy = 0.855\\nsamples = 1208\\nvalue = [870, 338]'),\n",
       " Text(334.8, 181.2, 'X[13] <= 0.5\\nentropy = 0.99\\nsamples = 402\\nvalue = [225, 177]'),\n",
       " Text(310.8857142857143, 108.71999999999997, 'X[7] <= 0.017\\nentropy = 0.991\\nsamples = 239\\nvalue = [106, 133]'),\n",
       " Text(298.92857142857144, 36.23999999999995, 'entropy = 0.985\\nsamples = 231\\nvalue = [99, 132]'),\n",
       " Text(322.84285714285716, 36.23999999999995, 'entropy = 0.544\\nsamples = 8\\nvalue = [7, 1]'),\n",
       " Text(358.7142857142857, 108.71999999999997, 'X[7] <= 0.001\\nentropy = 0.841\\nsamples = 163\\nvalue = [119, 44]'),\n",
       " Text(346.75714285714287, 36.23999999999995, 'entropy = 0.954\\nsamples = 104\\nvalue = [65, 39]'),\n",
       " Text(370.6714285714286, 36.23999999999995, 'entropy = 0.419\\nsamples = 59\\nvalue = [54, 5]'),\n",
       " Text(430.45714285714286, 181.2, 'X[9] <= 0.5\\nentropy = 0.721\\nsamples = 806\\nvalue = [645, 161]'),\n",
       " Text(406.54285714285714, 108.71999999999997, 'X[3] <= 0.303\\nentropy = 0.644\\nsamples = 616\\nvalue = [515, 101]'),\n",
       " Text(394.5857142857143, 36.23999999999995, 'entropy = 0.724\\nsamples = 418\\nvalue = [334, 84]'),\n",
       " Text(418.5, 36.23999999999995, 'entropy = 0.422\\nsamples = 198\\nvalue = [181, 17]'),\n",
       " Text(454.37142857142857, 108.71999999999997, 'X[7] <= 0.038\\nentropy = 0.9\\nsamples = 190\\nvalue = [130, 60]'),\n",
       " Text(442.4142857142857, 36.23999999999995, 'entropy = 1.0\\nsamples = 44\\nvalue = [22, 22]'),\n",
       " Text(466.3285714285714, 36.23999999999995, 'entropy = 0.827\\nsamples = 146\\nvalue = [108, 38]'),\n",
       " Text(573.9428571428572, 253.67999999999998, 'X[3] <= 0.204\\nentropy = 0.992\\nsamples = 1485\\nvalue = [665, 820]'),\n",
       " Text(526.1142857142858, 181.2, 'X[7] <= 0.012\\nentropy = 0.883\\nsamples = 726\\nvalue = [219, 507]'),\n",
       " Text(502.2, 108.71999999999997, 'X[6] <= 0.515\\nentropy = 0.598\\nsamples = 165\\nvalue = [24, 141]'),\n",
       " Text(490.24285714285713, 36.23999999999995, 'entropy = 0.0\\nsamples = 25\\nvalue = [0, 25]'),\n",
       " Text(514.1571428571428, 36.23999999999995, 'entropy = 0.661\\nsamples = 140\\nvalue = [24, 116]'),\n",
       " Text(550.0285714285715, 108.71999999999997, 'X[6] <= 0.619\\nentropy = 0.932\\nsamples = 561\\nvalue = [195, 366]'),\n",
       " Text(538.0714285714286, 36.23999999999995, 'entropy = 0.992\\nsamples = 240\\nvalue = [107, 133]'),\n",
       " Text(561.9857142857143, 36.23999999999995, 'entropy = 0.847\\nsamples = 321\\nvalue = [88, 233]'),\n",
       " Text(621.7714285714286, 181.2, 'X[30] <= 0.5\\nentropy = 0.978\\nsamples = 759\\nvalue = [446, 313]'),\n",
       " Text(597.8571428571429, 108.71999999999997, 'X[3] <= 0.754\\nentropy = 1.0\\nsamples = 411\\nvalue = [209, 202]'),\n",
       " Text(585.9, 36.23999999999995, 'entropy = 0.997\\nsamples = 351\\nvalue = [165, 186]'),\n",
       " Text(609.8142857142857, 36.23999999999995, 'entropy = 0.837\\nsamples = 60\\nvalue = [44, 16]'),\n",
       " Text(645.6857142857143, 108.71999999999997, 'X[3] <= 0.697\\nentropy = 0.903\\nsamples = 348\\nvalue = [237, 111]'),\n",
       " Text(633.7285714285714, 36.23999999999995, 'entropy = 0.939\\nsamples = 273\\nvalue = [176, 97]'),\n",
       " Text(657.6428571428571, 36.23999999999995, 'entropy = 0.694\\nsamples = 75\\nvalue = [61, 14]')]"
      ]
     },
     "execution_count": 136,
     "metadata": {},
     "output_type": "execute_result"
    },
    {
     "data": {
      "image/png": "[encoded data removed]",
      "text/plain": [
       "<Figure size 864x576 with 1 Axes>"
      ]
     },
     "metadata": {
      "needs_background": "light"
     },
     "output_type": "display_data"
    }
   ],
   "source": [
    "plt.figure(figsize=(12,8))\n",
    "\n",
    "from sklearn import tree\n",
    "\n",
    "tree.plot_tree(clf_en.fit(x_train, y_train))"
   ]
  },
  {
   "cell_type": "code",
   "execution_count": 143,
   "metadata": {},
   "outputs": [
    {
     "data": {
      "text/plain": [
       "array([[1308,  236],\n",
       "       [ 220,  346]], dtype=int64)"
      ]
     },
     "execution_count": 143,
     "metadata": {},
     "output_type": "execute_result"
    }
   ],
   "source": [
    "#confusion matrix\n",
    "from sklearn.metrics import confusion_matrix\n",
    "\n",
    "cm = confusion_matrix(y_test, test_en_predictions)\n",
    "cm"
   ]
  },
  {
   "cell_type": "code",
   "execution_count": 144,
   "metadata": {},
   "outputs": [
    {
     "data": {
      "text/plain": [
       "<AxesSubplot:>"
      ]
     },
     "execution_count": 144,
     "metadata": {},
     "output_type": "execute_result"
    },
    {
     "data": {
      "image/png": "[encoded data removed]",
      "text/plain": [
       "<Figure size 432x288 with 2 Axes>"
      ]
     },
     "metadata": {
      "needs_background": "light"
     },
     "output_type": "display_data"
    }
   ],
   "source": [
    "mat = pd.DataFrame(cm, index=[ 'Actual Negative','Actual Positive'], \n",
    "                                 columns=[ 'Predict Negative','Predict Positive'])\n",
    "sns.heatmap(mat, annot = True, fmt = 'd')"
   ]
  },
  {
   "cell_type": "code",
   "execution_count": 145,
   "metadata": {},
   "outputs": [
    {
     "name": "stdout",
     "output_type": "stream",
     "text": [
      "Correct Predictions: 1654\n",
      "False Positives: 236\n",
      "False Negatives: 220\n",
      "Accuracy: 0.7838862559241706\n",
      "Precision: 0.5945017182130584\n",
      "Sensitivity: 0.6113074204946997\n",
      "Specificity: 0.8471502590673575\n",
      "F1: 0.602787456445993\n"
     ]
    }
   ],
   "source": [
    "TP = cm[1,1]\n",
    "TN = cm[0,0]\n",
    "FP = cm[0,1]\n",
    "FN = cm[1,0]\n",
    "Accuracy  = (accuracy_score(y_test, test_en_predictions))\n",
    "Precision  = (TP/(TP+FP))  \n",
    "Sensitivity =(TP/(TP+FN))\n",
    "Specificity = (TN/(TN+FP))\n",
    "F1 = 2*(TP/(TP+FN)*(TP/(TP+FP))/((TP/(TP+FP))+(TP/(TP+FN))))\n",
    "print('Correct Predictions:' ,TP+TN)\n",
    "print('False Positives:', FP)\n",
    "print('False Negatives:', FN)\n",
    "print('Accuracy:',Accuracy)\n",
    "print('Precision:',Precision)\n",
    "print('Sensitivity:',Sensitivity)\n",
    "print('Specificity:',Specificity)\n",
    "print('F1:', F1)\n",
    " "
   ]
  },
  {
   "cell_type": "code",
   "execution_count": 146,
   "metadata": {},
   "outputs": [
    {
     "name": "stdout",
     "output_type": "stream",
     "text": [
      "              precision    recall  f1-score   support\n",
      "\n",
      "         0.0       0.86      0.85      0.85      1544\n",
      "         1.0       0.59      0.61      0.60       566\n",
      "\n",
      "    accuracy                           0.78      2110\n",
      "   macro avg       0.73      0.73      0.73      2110\n",
      "weighted avg       0.79      0.78      0.78      2110\n",
      "\n"
     ]
    }
   ],
   "source": [
    "print(classification_report(y_test, test_en_predictions))"
   ]
  },
  {
   "cell_type": "code",
   "execution_count": 147,
   "metadata": {},
   "outputs": [
    {
     "data": {
      "text/plain": [
       "<AxesSubplot:>"
      ]
     },
     "execution_count": 147,
     "metadata": {},
     "output_type": "execute_result"
    },
    {
     "data": {
      "image/png": "[encoded data removed]",
      "text/plain": [
       "<Figure size 432x288 with 1 Axes>"
      ]
     },
     "metadata": {
      "needs_background": "light"
     },
     "output_type": "display_data"
    }
   ],
   "source": [
    "y_pred = clf_en.predict_proba(x_test)[:,1]\n",
    "fpr, tpr, thresholds = roc_curve(y_test, y_pred)\n",
    "sns.lineplot([0,1], [0,1])\n",
    "sns.lineplot(fpr, tpr)"
   ]
  },
  {
   "cell_type": "code",
   "execution_count": 148,
   "metadata": {},
   "outputs": [
    {
     "name": "stdout",
     "output_type": "stream",
     "text": [
      "ROC AUC: 0.8257\n"
     ]
    }
   ],
   "source": [
    "print('ROC AUC: {:.4f}'.format(roc_auc_score(y_test, y_pred)))"
   ]
  },
  {
   "cell_type": "code",
   "execution_count": 149,
   "metadata": {},
   "outputs": [
    {
     "name": "stdout",
     "output_type": "stream",
     "text": [
      "Cross-validation scores:[0.79918864 0.80487805 0.79674797 0.75406504 0.77235772 0.79674797\n",
      " 0.78861789 0.82113821 0.79471545 0.82113821]\n",
      "Average 10 fold Cross Validation Accuracy for testing data:  0.7949595145038673\n"
     ]
    }
   ],
   "source": [
    "scores = cross_val_score(clf_en, x_train, y_train, cv = 10, scoring='accuracy')\n",
    "\n",
    "print('Cross-validation scores:{}'.format(scores))\n",
    "print('Average 10 fold Cross Validation Accuracy for testing data: ', scores.mean())"
   ]
  },
  {
   "cell_type": "code",
   "execution_count": 150,
   "metadata": {},
   "outputs": [
    {
     "name": "stdout",
     "output_type": "stream",
     "text": [
      "GridSearch CV best score : 0.7950\n",
      "\n",
      "\n",
      "Parameters that give the best results : \n",
      "\n",
      " {'max_depth': 5}\n",
      "\n",
      "\n",
      "Estimator that was chosen by the search : \n",
      "\n",
      " DecisionTreeClassifier(criterion='entropy', max_depth=5, random_state=0)\n",
      "GridSearch CV score on test set: 0.7839\n"
     ]
    }
   ],
   "source": [
    "parameters = [{'max_depth':[3,4,5]}]\n",
    "\n",
    "\n",
    "\n",
    "grid_search = GridSearchCV(estimator = clf_en,  \n",
    "                           param_grid = parameters,\n",
    "                           scoring = 'accuracy',\n",
    "                           cv = 10,\n",
    "                           verbose=0)\n",
    "\n",
    "\n",
    "grid_search.fit(x_train, y_train)\n",
    "# best score achieved during the GridSearchCV\n",
    "print('GridSearch CV best score : {:.4f}\\n\\n'.format(grid_search.best_score_))\n",
    "\n",
    "# print parameters that give the best results\n",
    "print('Parameters that give the best results :','\\n\\n', (grid_search.best_params_))\n",
    "\n",
    "# print estimator that was chosen by the GridSearch\n",
    "print('\\n\\nEstimator that was chosen by the search :','\\n\\n', (grid_search.best_estimator_))\n",
    "\n",
    "print('GridSearch CV score on test set: {0:0.4f}'.format(grid_search.score(x_test, y_test)))"
   ]
  },
  {
   "cell_type": "markdown",
   "metadata": {},
   "source": [
    "Applying Random Forest classifier\n"
   ]
  },
  {
   "cell_type": "code",
   "execution_count": 151,
   "metadata": {},
   "outputs": [
    {
     "data": {
      "text/plain": [
       "RandomForestClassifier(max_depth=3, random_state=42)"
      ]
     },
     "execution_count": 151,
     "metadata": {},
     "output_type": "execute_result"
    }
   ],
   "source": [
    "from sklearn.ensemble import RandomForestClassifier\n",
    "rfc = RandomForestClassifier(n_estimators=100, random_state= 42, max_depth=3, criterion='gini')\n",
    "rfc.fit(x_train, y_train )"
   ]
  },
  {
   "cell_type": "code",
   "execution_count": 152,
   "metadata": {},
   "outputs": [],
   "source": [
    "y_pred_forest_train = rfc.predict(x_train)\n",
    "y_pred_forest_test = rfc.predict(x_test)"
   ]
  },
  {
   "cell_type": "code",
   "execution_count": 153,
   "metadata": {},
   "outputs": [
    {
     "name": "stdout",
     "output_type": "stream",
     "text": [
      "Training accuracy:  0.792521845153424\n",
      "Testing accuracy:  0.7838862559241706\n"
     ]
    }
   ],
   "source": [
    "print('Training accuracy: ', accuracy_score(y_train, y_pred_forest_train))\n",
    "print('Testing accuracy: ', accuracy_score(y_test, y_pred_forest_test))"
   ]
  },
  {
   "cell_type": "code",
   "execution_count": 154,
   "metadata": {},
   "outputs": [
    {
     "name": "stdout",
     "output_type": "stream",
     "text": [
      "              precision    recall  f1-score   support\n",
      "\n",
      "         0.0       0.80      0.95      0.87      1544\n",
      "         1.0       0.70      0.34      0.46       566\n",
      "\n",
      "    accuracy                           0.78      2110\n",
      "   macro avg       0.75      0.64      0.66      2110\n",
      "weighted avg       0.77      0.78      0.76      2110\n",
      "\n"
     ]
    }
   ],
   "source": [
    "print(classification_report(y_test, y_pred_forest_test))"
   ]
  },
  {
   "cell_type": "code",
   "execution_count": 155,
   "metadata": {},
   "outputs": [
    {
     "data": {
      "text/plain": [
       "<AxesSubplot:>"
      ]
     },
     "execution_count": 155,
     "metadata": {},
     "output_type": "execute_result"
    },
    {
     "data": {
      "image/png": "[encoded data removed]",
      "text/plain": [
       "<Figure size 432x288 with 2 Axes>"
      ]
     },
     "metadata": {
      "needs_background": "light"
     },
     "output_type": "display_data"
    }
   ],
   "source": [
    "cm = confusion_matrix(y_test, y_pred_forest_test )\n",
    "mat = pd.DataFrame(cm, index=[ 'Actual Negative','Actual Positive'], \n",
    "                                 columns=[ 'Predict Negative','Predict Positive'])\n",
    "sns.heatmap(mat, annot = True, fmt = 'd')"
   ]
  },
  {
   "cell_type": "code",
   "execution_count": 156,
   "metadata": {},
   "outputs": [
    {
     "name": "stdout",
     "output_type": "stream",
     "text": [
      "Correct Predictions: 1654\n",
      "False Positives: 83\n",
      "False Negatives: 373\n",
      "Accuracy: 0.7838862559241706\n",
      "Precision: 0.6992753623188406\n",
      "Sensitivity: 0.3409893992932862\n",
      "Specificity: 0.9462435233160622\n",
      "F1: 0.4584323040380047\n"
     ]
    }
   ],
   "source": [
    "TP = cm[1,1]\n",
    "TN = cm[0,0]\n",
    "FP = cm[0,1]\n",
    "FN = cm[1,0]\n",
    "Accuracy  = (accuracy_score(y_test, test_gini_predictions))\n",
    "Precision  = (TP/(TP+FP))  \n",
    "Sensitivity =(TP/(TP+FN))\n",
    "Specificity = (TN/(TN+FP))\n",
    "F1 = 2*(TP/(TP+FN)*(TP/(TP+FP))/((TP/(TP+FP))+(TP/(TP+FN))))\n",
    "print('Correct Predictions:' ,TP+TN)\n",
    "print('False Positives:', FP)\n",
    "print('False Negatives:', FN)\n",
    "print('Accuracy:',Accuracy)\n",
    "print('Precision:',Precision)\n",
    "print('Sensitivity:',Sensitivity)\n",
    "print('Specificity:',Specificity)\n",
    "print('F1:', F1)\n",
    " "
   ]
  },
  {
   "cell_type": "code",
   "execution_count": 157,
   "metadata": {},
   "outputs": [
    {
     "data": {
      "text/plain": [
       "<AxesSubplot:>"
      ]
     },
     "execution_count": 157,
     "metadata": {},
     "output_type": "execute_result"
    },
    {
     "data": {
      "image/png": "[encoded data removed]",
      "text/plain": [
       "<Figure size 432x288 with 1 Axes>"
      ]
     },
     "metadata": {
      "needs_background": "light"
     },
     "output_type": "display_data"
    }
   ],
   "source": [
    "y_pred = rfc.predict_proba(x_test)[:,1]\n",
    "fpr, tpr, thresholds = roc_curve(y_test, y_pred)\n",
    "sns.lineplot([0,1], [0,1])\n",
    "sns.lineplot(fpr, tpr)"
   ]
  },
  {
   "cell_type": "code",
   "execution_count": 158,
   "metadata": {},
   "outputs": [
    {
     "name": "stdout",
     "output_type": "stream",
     "text": [
      "ROC AUC: 0.8274\n"
     ]
    }
   ],
   "source": [
    "print('ROC AUC: {:.4f}'.format(roc_auc_score(y_test, y_pred)))"
   ]
  },
  {
   "cell_type": "code",
   "execution_count": 160,
   "metadata": {},
   "outputs": [
    {
     "name": "stdout",
     "output_type": "stream",
     "text": [
      "Cross-validation scores:[0.79107505 0.79268293 0.80284553 0.77235772 0.77235772 0.78658537\n",
      " 0.77845528 0.81300813 0.77642276 0.80081301]\n",
      "Average 10 fold Cross Validation Accuracy for testing data:  0.7886603505994492\n"
     ]
    }
   ],
   "source": [
    "scores = cross_val_score(rfc, x_train, y_train, cv = 10, scoring='accuracy')\n",
    "\n",
    "print('Cross-validation scores:{}'.format(scores))\n",
    "print('Average 10 fold Cross Validation Accuracy for testing data: ', scores.mean())"
   ]
  },
  {
   "cell_type": "code",
   "execution_count": 161,
   "metadata": {},
   "outputs": [
    {
     "name": "stdout",
     "output_type": "stream",
     "text": [
      "GridSearch CV best score : 0.7988\n",
      "\n",
      "\n",
      "Parameters that give the best results : \n",
      "\n",
      " {'max_depth': 5}\n",
      "\n",
      "\n",
      "Estimator that was chosen by the search : \n",
      "\n",
      " RandomForestClassifier(max_depth=5, random_state=42)\n",
      "GridSearch CV score on test set: 0.7867\n"
     ]
    }
   ],
   "source": [
    "parameters = [{'max_depth':[3,4,5]}, {'criterion': ['gini','entrophy']}]\n",
    "\n",
    "\n",
    "\n",
    "grid_search = GridSearchCV(estimator = rfc,  \n",
    "                           param_grid = parameters,\n",
    "                           scoring = 'accuracy',\n",
    "                           cv = 10,\n",
    "                           verbose=0)\n",
    "\n",
    "\n",
    "grid_search.fit(x_train, y_train)\n",
    "# best score achieved during the GridSearchCV\n",
    "print('GridSearch CV best score : {:.4f}\\n\\n'.format(grid_search.best_score_))\n",
    "\n",
    "# print parameters that give the best results\n",
    "print('Parameters that give the best results :','\\n\\n', (grid_search.best_params_))\n",
    "\n",
    "# print estimator that was chosen by the GridSearch\n",
    "print('\\n\\nEstimator that was chosen by the search :','\\n\\n', (grid_search.best_estimator_))\n",
    "\n",
    "print('GridSearch CV score on test set: {0:0.4f}'.format(grid_search.score(x_test, y_test)))"
   ]
  },
  {
   "cell_type": "markdown",
   "metadata": {},
   "source": [
    "Now using XGBoost"
   ]
  },
  {
   "cell_type": "code",
   "execution_count": 163,
   "metadata": {},
   "outputs": [
    {
     "name": "stdout",
     "output_type": "stream",
     "text": [
      "[11:04:09] WARNING: C:/Users/Administrator/workspace/xgboost-win64_release_1.4.0/src/learner.cc:1095: Starting in XGBoost 1.3.0, the default evaluation metric used with the objective 'binary:logistic' was changed from 'error' to 'logloss'. Explicitly set eval_metric if you'd like to restore the old behavior.\n"
     ]
    },
    {
     "data": {
      "text/plain": [
       "XGBClassifier(alpha=10, base_score=0.5, booster='gbtree', colsample_bylevel=1,\n",
       "              colsample_bynode=1, colsample_bytree=1, gamma=0, gpu_id=-1,\n",
       "              importance_type='gain', interaction_constraints='',\n",
       "              learning_rate=1.0, max_delta_step=0, max_depth=4,\n",
       "              min_child_weight=1, missing=nan, monotone_constraints='()',\n",
       "              n_estimators=100, n_jobs=8, num_parallel_tree=1, random_state=0,\n",
       "              reg_alpha=10, reg_lambda=1, scale_pos_weight=1, subsample=1,\n",
       "              tree_method='exact', validate_parameters=1, verbosity=None)"
      ]
     },
     "execution_count": 163,
     "metadata": {},
     "output_type": "execute_result"
    }
   ],
   "source": [
    "# import XGBClassifier\n",
    "from xgboost import XGBClassifier\n",
    "\n",
    "\n",
    "# declare parameters\n",
    "params = {\n",
    "            'objective':'binary:logistic',\n",
    "            'max_depth': 4,\n",
    "            'alpha': 10,\n",
    "            'learning_rate': 1.0,\n",
    "            'n_estimators':100\n",
    "        }         \n",
    "           \n",
    "          \n",
    "# instantiate the classifier \n",
    "xgb_clf = XGBClassifier(**params)\n",
    "\n",
    "\n",
    "# fit the classifier to the training data\n",
    "xgb_clf.fit(x_train, y_train)"
   ]
  },
  {
   "cell_type": "code",
   "execution_count": 164,
   "metadata": {},
   "outputs": [
    {
     "name": "stdout",
     "output_type": "stream",
     "text": [
      "Training accuracy:  0.8260516155252997\n",
      "Testing accuracy:  0.7938388625592417\n"
     ]
    }
   ],
   "source": [
    "y_pred_xgb_train = xgb_clf.predict(x_train)\n",
    "y_pred_xgb_test = xgb_clf.predict(x_test)\n",
    "print('Training accuracy: ', accuracy_score(y_train, y_pred_xgb_train))\n",
    "print('Testing accuracy: ', accuracy_score(y_test, y_pred_xgb_test))"
   ]
  },
  {
   "cell_type": "code",
   "execution_count": 166,
   "metadata": {},
   "outputs": [
    {
     "name": "stdout",
     "output_type": "stream",
     "text": [
      "              precision    recall  f1-score   support\n",
      "\n",
      "         0.0       0.84      0.89      0.86      1544\n",
      "         1.0       0.64      0.53      0.58       566\n",
      "\n",
      "    accuracy                           0.79      2110\n",
      "   macro avg       0.74      0.71      0.72      2110\n",
      "weighted avg       0.78      0.79      0.79      2110\n",
      "\n"
     ]
    }
   ],
   "source": [
    "print(classification_report(y_test, y_pred_xgb_test))"
   ]
  },
  {
   "cell_type": "code",
   "execution_count": 170,
   "metadata": {},
   "outputs": [
    {
     "data": {
      "text/plain": [
       "<AxesSubplot:>"
      ]
     },
     "execution_count": 170,
     "metadata": {},
     "output_type": "execute_result"
    },
    {
     "data": {
      "image/png": "[encoded data removed]",
      "text/plain": [
       "<Figure size 432x288 with 2 Axes>"
      ]
     },
     "metadata": {
      "needs_background": "light"
     },
     "output_type": "display_data"
    }
   ],
   "source": [
    "cm = confusion_matrix(y_test, y_pred_xgb_test )\n",
    "mat = pd.DataFrame(cm, index=[ 'Actual Negative','Actual Positive'], \n",
    "                                 columns=[ 'Predict Negative','Predict Positive'])\n",
    "sns.heatmap(mat, annot = True, fmt = 'd')"
   ]
  },
  {
   "cell_type": "code",
   "execution_count": 171,
   "metadata": {},
   "outputs": [
    {
     "name": "stdout",
     "output_type": "stream",
     "text": [
      "Correct Predictions: 1675\n",
      "False Positives: 168\n",
      "False Negatives: 267\n",
      "Accuracy: 0.7938388625592417\n",
      "Precision: 0.6402569593147751\n",
      "Sensitivity: 0.5282685512367491\n",
      "Specificity: 0.8911917098445595\n",
      "F1: 0.5788964181994192\n"
     ]
    }
   ],
   "source": [
    "TP = cm[1,1]\n",
    "TN = cm[0,0]\n",
    "FP = cm[0,1]\n",
    "FN = cm[1,0]\n",
    "Accuracy  = (accuracy_score(y_test, y_pred_xgb_test ))\n",
    "Precision  = (TP/(TP+FP))  \n",
    "Sensitivity =(TP/(TP+FN))\n",
    "Specificity = (TN/(TN+FP))\n",
    "F1 = 2*(TP/(TP+FN)*(TP/(TP+FP))/((TP/(TP+FP))+(TP/(TP+FN))))\n",
    "print('Correct Predictions:' ,TP+TN)\n",
    "print('False Positives:', FP)\n",
    "print('False Negatives:', FN)\n",
    "print('Accuracy:',Accuracy)\n",
    "print('Precision:',Precision)\n",
    "print('Sensitivity:',Sensitivity)\n",
    "print('Specificity:',Specificity)\n",
    "print('F1:', F1)\n",
    " "
   ]
  },
  {
   "cell_type": "code",
   "execution_count": 172,
   "metadata": {},
   "outputs": [
    {
     "data": {
      "text/plain": [
       "<AxesSubplot:>"
      ]
     },
     "execution_count": 172,
     "metadata": {},
     "output_type": "execute_result"
    },
    {
     "data": {
      "image/png": "[encoded data removed]",
      "text/plain": [
       "<Figure size 432x288 with 1 Axes>"
      ]
     },
     "metadata": {
      "needs_background": "light"
     },
     "output_type": "display_data"
    }
   ],
   "source": [
    "y_pred = xgb_clf.predict_proba(x_test)[:,1]\n",
    "fpr, tpr, thresholds = roc_curve(y_test, y_pred)\n",
    "sns.lineplot([0,1], [0,1])\n",
    "sns.lineplot(fpr, tpr)"
   ]
  },
  {
   "cell_type": "code",
   "execution_count": 173,
   "metadata": {},
   "outputs": [
    {
     "name": "stdout",
     "output_type": "stream",
     "text": [
      "ROC AUC: 0.8383\n"
     ]
    }
   ],
   "source": [
    "print('ROC AUC: {:.4f}'.format(roc_auc_score(y_test, y_pred)))"
   ]
  },
  {
   "cell_type": "code",
   "execution_count": 174,
   "metadata": {},
   "outputs": [
    {
     "name": "stdout",
     "output_type": "stream",
     "text": [
      "[11:15:37] WARNING: C:/Users/Administrator/workspace/xgboost-win64_release_1.4.0/src/learner.cc:1095: Starting in XGBoost 1.3.0, the default evaluation metric used with the objective 'binary:logistic' was changed from 'error' to 'logloss'. Explicitly set eval_metric if you'd like to restore the old behavior.\n",
      "[11:15:37] WARNING: C:/Users/Administrator/workspace/xgboost-win64_release_1.4.0/src/learner.cc:1095: Starting in XGBoost 1.3.0, the default evaluation metric used with the objective 'binary:logistic' was changed from 'error' to 'logloss'. Explicitly set eval_metric if you'd like to restore the old behavior.\n",
      "[11:15:38] WARNING: C:/Users/Administrator/workspace/xgboost-win64_release_1.4.0/src/learner.cc:1095: Starting in XGBoost 1.3.0, the default evaluation metric used with the objective 'binary:logistic' was changed from 'error' to 'logloss'. Explicitly set eval_metric if you'd like to restore the old behavior.\n",
      "[11:15:38] WARNING: C:/Users/Administrator/workspace/xgboost-win64_release_1.4.0/src/learner.cc:1095: Starting in XGBoost 1.3.0, the default evaluation metric used with the objective 'binary:logistic' was changed from 'error' to 'logloss'. Explicitly set eval_metric if you'd like to restore the old behavior.\n",
      "[11:15:38] WARNING: C:/Users/Administrator/workspace/xgboost-win64_release_1.4.0/src/learner.cc:1095: Starting in XGBoost 1.3.0, the default evaluation metric used with the objective 'binary:logistic' was changed from 'error' to 'logloss'. Explicitly set eval_metric if you'd like to restore the old behavior.\n",
      "[11:15:38] WARNING: C:/Users/Administrator/workspace/xgboost-win64_release_1.4.0/src/learner.cc:1095: Starting in XGBoost 1.3.0, the default evaluation metric used with the objective 'binary:logistic' was changed from 'error' to 'logloss'. Explicitly set eval_metric if you'd like to restore the old behavior.\n",
      "[11:15:38] WARNING: C:/Users/Administrator/workspace/xgboost-win64_release_1.4.0/src/learner.cc:1095: Starting in XGBoost 1.3.0, the default evaluation metric used with the objective 'binary:logistic' was changed from 'error' to 'logloss'. Explicitly set eval_metric if you'd like to restore the old behavior.\n",
      "[11:15:38] WARNING: C:/Users/Administrator/workspace/xgboost-win64_release_1.4.0/src/learner.cc:1095: Starting in XGBoost 1.3.0, the default evaluation metric used with the objective 'binary:logistic' was changed from 'error' to 'logloss'. Explicitly set eval_metric if you'd like to restore the old behavior.\n",
      "[11:15:38] WARNING: C:/Users/Administrator/workspace/xgboost-win64_release_1.4.0/src/learner.cc:1095: Starting in XGBoost 1.3.0, the default evaluation metric used with the objective 'binary:logistic' was changed from 'error' to 'logloss'. Explicitly set eval_metric if you'd like to restore the old behavior.\n",
      "[11:15:38] WARNING: C:/Users/Administrator/workspace/xgboost-win64_release_1.4.0/src/learner.cc:1095: Starting in XGBoost 1.3.0, the default evaluation metric used with the objective 'binary:logistic' was changed from 'error' to 'logloss'. Explicitly set eval_metric if you'd like to restore the old behavior.\n",
      "Cross-validation scores:[0.80730223 0.80487805 0.80691057 0.76219512 0.76829268 0.82926829\n",
      " 0.78455285 0.81504065 0.79065041 0.82317073]\n",
      "Average 10 fold Cross Validation Accuracy for testing data:  0.799226158083082\n"
     ]
    }
   ],
   "source": [
    "scores = cross_val_score(xgb_clf, x_train, y_train, cv = 10, scoring='accuracy')\n",
    "\n",
    "print('Cross-validation scores:{}'.format(scores))\n",
    "print('Average 10 fold Cross Validation Accuracy for testing data: ', scores.mean())"
   ]
  },
  {
   "cell_type": "code",
   "execution_count": 175,
   "metadata": {},
   "outputs": [
    {
     "name": "stdout",
     "output_type": "stream",
     "text": [
      "[11:20:49] WARNING: C:/Users/Administrator/workspace/xgboost-win64_release_1.4.0/src/learner.cc:1095: Starting in XGBoost 1.3.0, the default evaluation metric used with the objective 'binary:logistic' was changed from 'error' to 'logloss'. Explicitly set eval_metric if you'd like to restore the old behavior.\n",
      "[11:20:49] WARNING: C:/Users/Administrator/workspace/xgboost-win64_release_1.4.0/src/learner.cc:1095: Starting in XGBoost 1.3.0, the default evaluation metric used with the objective 'binary:logistic' was changed from 'error' to 'logloss'. Explicitly set eval_metric if you'd like to restore the old behavior.\n",
      "[11:20:49] WARNING: C:/Users/Administrator/workspace/xgboost-win64_release_1.4.0/src/learner.cc:1095: Starting in XGBoost 1.3.0, the default evaluation metric used with the objective 'binary:logistic' was changed from 'error' to 'logloss'. Explicitly set eval_metric if you'd like to restore the old behavior.\n",
      "[11:20:49] WARNING: C:/Users/Administrator/workspace/xgboost-win64_release_1.4.0/src/learner.cc:1095: Starting in XGBoost 1.3.0, the default evaluation metric used with the objective 'binary:logistic' was changed from 'error' to 'logloss'. Explicitly set eval_metric if you'd like to restore the old behavior.\n",
      "[11:20:49] WARNING: C:/Users/Administrator/workspace/xgboost-win64_release_1.4.0/src/learner.cc:1095: Starting in XGBoost 1.3.0, the default evaluation metric used with the objective 'binary:logistic' was changed from 'error' to 'logloss'. Explicitly set eval_metric if you'd like to restore the old behavior.\n",
      "[11:20:49] WARNING: C:/Users/Administrator/workspace/xgboost-win64_release_1.4.0/src/learner.cc:1095: Starting in XGBoost 1.3.0, the default evaluation metric used with the objective 'binary:logistic' was changed from 'error' to 'logloss'. Explicitly set eval_metric if you'd like to restore the old behavior.\n",
      "[11:20:50] WARNING: C:/Users/Administrator/workspace/xgboost-win64_release_1.4.0/src/learner.cc:1095: Starting in XGBoost 1.3.0, the default evaluation metric used with the objective 'binary:logistic' was changed from 'error' to 'logloss'. Explicitly set eval_metric if you'd like to restore the old behavior.\n",
      "[11:20:50] WARNING: C:/Users/Administrator/workspace/xgboost-win64_release_1.4.0/src/learner.cc:1095: Starting in XGBoost 1.3.0, the default evaluation metric used with the objective 'binary:logistic' was changed from 'error' to 'logloss'. Explicitly set eval_metric if you'd like to restore the old behavior.\n",
      "[11:20:50] WARNING: C:/Users/Administrator/workspace/xgboost-win64_release_1.4.0/src/learner.cc:1095: Starting in XGBoost 1.3.0, the default evaluation metric used with the objective 'binary:logistic' was changed from 'error' to 'logloss'. Explicitly set eval_metric if you'd like to restore the old behavior.\n",
      "[11:20:50] WARNING: C:/Users/Administrator/workspace/xgboost-win64_release_1.4.0/src/learner.cc:1095: Starting in XGBoost 1.3.0, the default evaluation metric used with the objective 'binary:logistic' was changed from 'error' to 'logloss'. Explicitly set eval_metric if you'd like to restore the old behavior.\n",
      "[11:20:50] WARNING: C:/Users/Administrator/workspace/xgboost-win64_release_1.4.0/src/learner.cc:1095: Starting in XGBoost 1.3.0, the default evaluation metric used with the objective 'binary:logistic' was changed from 'error' to 'logloss'. Explicitly set eval_metric if you'd like to restore the old behavior.\n",
      "[11:20:50] WARNING: C:/Users/Administrator/workspace/xgboost-win64_release_1.4.0/src/learner.cc:1095: Starting in XGBoost 1.3.0, the default evaluation metric used with the objective 'binary:logistic' was changed from 'error' to 'logloss'. Explicitly set eval_metric if you'd like to restore the old behavior.\n",
      "[11:20:50] WARNING: C:/Users/Administrator/workspace/xgboost-win64_release_1.4.0/src/learner.cc:1095: Starting in XGBoost 1.3.0, the default evaluation metric used with the objective 'binary:logistic' was changed from 'error' to 'logloss'. Explicitly set eval_metric if you'd like to restore the old behavior.\n",
      "[11:20:50] WARNING: C:/Users/Administrator/workspace/xgboost-win64_release_1.4.0/src/learner.cc:1095: Starting in XGBoost 1.3.0, the default evaluation metric used with the objective 'binary:logistic' was changed from 'error' to 'logloss'. Explicitly set eval_metric if you'd like to restore the old behavior.\n",
      "[11:20:50] WARNING: C:/Users/Administrator/workspace/xgboost-win64_release_1.4.0/src/learner.cc:1095: Starting in XGBoost 1.3.0, the default evaluation metric used with the objective 'binary:logistic' was changed from 'error' to 'logloss'. Explicitly set eval_metric if you'd like to restore the old behavior.\n",
      "[11:20:50] WARNING: C:/Users/Administrator/workspace/xgboost-win64_release_1.4.0/src/learner.cc:1095: Starting in XGBoost 1.3.0, the default evaluation metric used with the objective 'binary:logistic' was changed from 'error' to 'logloss'. Explicitly set eval_metric if you'd like to restore the old behavior.\n",
      "[11:20:51] WARNING: C:/Users/Administrator/workspace/xgboost-win64_release_1.4.0/src/learner.cc:1095: Starting in XGBoost 1.3.0, the default evaluation metric used with the objective 'binary:logistic' was changed from 'error' to 'logloss'. Explicitly set eval_metric if you'd like to restore the old behavior.\n",
      "[11:20:51] WARNING: C:/Users/Administrator/workspace/xgboost-win64_release_1.4.0/src/learner.cc:1095: Starting in XGBoost 1.3.0, the default evaluation metric used with the objective 'binary:logistic' was changed from 'error' to 'logloss'. Explicitly set eval_metric if you'd like to restore the old behavior.\n",
      "[11:20:51] WARNING: C:/Users/Administrator/workspace/xgboost-win64_release_1.4.0/src/learner.cc:1095: Starting in XGBoost 1.3.0, the default evaluation metric used with the objective 'binary:logistic' was changed from 'error' to 'logloss'. Explicitly set eval_metric if you'd like to restore the old behavior.\n",
      "[11:20:51] WARNING: C:/Users/Administrator/workspace/xgboost-win64_release_1.4.0/src/learner.cc:1095: Starting in XGBoost 1.3.0, the default evaluation metric used with the objective 'binary:logistic' was changed from 'error' to 'logloss'. Explicitly set eval_metric if you'd like to restore the old behavior.\n",
      "[11:20:51] WARNING: C:/Users/Administrator/workspace/xgboost-win64_release_1.4.0/src/learner.cc:1095: Starting in XGBoost 1.3.0, the default evaluation metric used with the objective 'binary:logistic' was changed from 'error' to 'logloss'. Explicitly set eval_metric if you'd like to restore the old behavior.\n",
      "[11:20:51] WARNING: C:/Users/Administrator/workspace/xgboost-win64_release_1.4.0/src/learner.cc:1095: Starting in XGBoost 1.3.0, the default evaluation metric used with the objective 'binary:logistic' was changed from 'error' to 'logloss'. Explicitly set eval_metric if you'd like to restore the old behavior.\n",
      "[11:20:51] WARNING: C:/Users/Administrator/workspace/xgboost-win64_release_1.4.0/src/learner.cc:1095: Starting in XGBoost 1.3.0, the default evaluation metric used with the objective 'binary:logistic' was changed from 'error' to 'logloss'. Explicitly set eval_metric if you'd like to restore the old behavior.\n",
      "[11:20:51] WARNING: C:/Users/Administrator/workspace/xgboost-win64_release_1.4.0/src/learner.cc:1095: Starting in XGBoost 1.3.0, the default evaluation metric used with the objective 'binary:logistic' was changed from 'error' to 'logloss'. Explicitly set eval_metric if you'd like to restore the old behavior.\n",
      "[11:20:52] WARNING: C:/Users/Administrator/workspace/xgboost-win64_release_1.4.0/src/learner.cc:1095: Starting in XGBoost 1.3.0, the default evaluation metric used with the objective 'binary:logistic' was changed from 'error' to 'logloss'. Explicitly set eval_metric if you'd like to restore the old behavior.\n",
      "[11:20:52] WARNING: C:/Users/Administrator/workspace/xgboost-win64_release_1.4.0/src/learner.cc:1095: Starting in XGBoost 1.3.0, the default evaluation metric used with the objective 'binary:logistic' was changed from 'error' to 'logloss'. Explicitly set eval_metric if you'd like to restore the old behavior.\n",
      "[11:20:52] WARNING: C:/Users/Administrator/workspace/xgboost-win64_release_1.4.0/src/learner.cc:1095: Starting in XGBoost 1.3.0, the default evaluation metric used with the objective 'binary:logistic' was changed from 'error' to 'logloss'. Explicitly set eval_metric if you'd like to restore the old behavior.\n",
      "[11:20:52] WARNING: C:/Users/Administrator/workspace/xgboost-win64_release_1.4.0/src/learner.cc:1095: Starting in XGBoost 1.3.0, the default evaluation metric used with the objective 'binary:logistic' was changed from 'error' to 'logloss'. Explicitly set eval_metric if you'd like to restore the old behavior.\n",
      "[11:20:53] WARNING: C:/Users/Administrator/workspace/xgboost-win64_release_1.4.0/src/learner.cc:1095: Starting in XGBoost 1.3.0, the default evaluation metric used with the objective 'binary:logistic' was changed from 'error' to 'logloss'. Explicitly set eval_metric if you'd like to restore the old behavior.\n",
      "[11:20:53] WARNING: C:/Users/Administrator/workspace/xgboost-win64_release_1.4.0/src/learner.cc:1095: Starting in XGBoost 1.3.0, the default evaluation metric used with the objective 'binary:logistic' was changed from 'error' to 'logloss'. Explicitly set eval_metric if you'd like to restore the old behavior.\n",
      "[11:20:53] WARNING: C:/Users/Administrator/workspace/xgboost-win64_release_1.4.0/src/learner.cc:1095: Starting in XGBoost 1.3.0, the default evaluation metric used with the objective 'binary:logistic' was changed from 'error' to 'logloss'. Explicitly set eval_metric if you'd like to restore the old behavior.\n",
      "[11:20:53] WARNING: C:/Users/Administrator/workspace/xgboost-win64_release_1.4.0/src/learner.cc:1095: Starting in XGBoost 1.3.0, the default evaluation metric used with the objective 'binary:logistic' was changed from 'error' to 'logloss'. Explicitly set eval_metric if you'd like to restore the old behavior.\n",
      "[11:20:53] WARNING: C:/Users/Administrator/workspace/xgboost-win64_release_1.4.0/src/learner.cc:1095: Starting in XGBoost 1.3.0, the default evaluation metric used with the objective 'binary:logistic' was changed from 'error' to 'logloss'. Explicitly set eval_metric if you'd like to restore the old behavior.\n",
      "[11:20:53] WARNING: C:/Users/Administrator/workspace/xgboost-win64_release_1.4.0/src/learner.cc:1095: Starting in XGBoost 1.3.0, the default evaluation metric used with the objective 'binary:logistic' was changed from 'error' to 'logloss'. Explicitly set eval_metric if you'd like to restore the old behavior.\n",
      "[11:20:53] WARNING: C:/Users/Administrator/workspace/xgboost-win64_release_1.4.0/src/learner.cc:1095: Starting in XGBoost 1.3.0, the default evaluation metric used with the objective 'binary:logistic' was changed from 'error' to 'logloss'. Explicitly set eval_metric if you'd like to restore the old behavior.\n",
      "[11:20:53] WARNING: C:/Users/Administrator/workspace/xgboost-win64_release_1.4.0/src/learner.cc:1095: Starting in XGBoost 1.3.0, the default evaluation metric used with the objective 'binary:logistic' was changed from 'error' to 'logloss'. Explicitly set eval_metric if you'd like to restore the old behavior.\n",
      "[11:20:53] WARNING: C:/Users/Administrator/workspace/xgboost-win64_release_1.4.0/src/learner.cc:1095: Starting in XGBoost 1.3.0, the default evaluation metric used with the objective 'binary:logistic' was changed from 'error' to 'logloss'. Explicitly set eval_metric if you'd like to restore the old behavior.\n",
      "[11:20:54] WARNING: C:/Users/Administrator/workspace/xgboost-win64_release_1.4.0/src/learner.cc:1095: Starting in XGBoost 1.3.0, the default evaluation metric used with the objective 'binary:logistic' was changed from 'error' to 'logloss'. Explicitly set eval_metric if you'd like to restore the old behavior.\n",
      "[11:20:54] WARNING: C:/Users/Administrator/workspace/xgboost-win64_release_1.4.0/src/learner.cc:1095: Starting in XGBoost 1.3.0, the default evaluation metric used with the objective 'binary:logistic' was changed from 'error' to 'logloss'. Explicitly set eval_metric if you'd like to restore the old behavior.\n",
      "[11:20:54] WARNING: C:/Users/Administrator/workspace/xgboost-win64_release_1.4.0/src/learner.cc:1095: Starting in XGBoost 1.3.0, the default evaluation metric used with the objective 'binary:logistic' was changed from 'error' to 'logloss'. Explicitly set eval_metric if you'd like to restore the old behavior.\n",
      "[11:20:54] WARNING: C:/Users/Administrator/workspace/xgboost-win64_release_1.4.0/src/learner.cc:1095: Starting in XGBoost 1.3.0, the default evaluation metric used with the objective 'binary:logistic' was changed from 'error' to 'logloss'. Explicitly set eval_metric if you'd like to restore the old behavior.\n",
      "[11:20:54] WARNING: C:/Users/Administrator/workspace/xgboost-win64_release_1.4.0/src/learner.cc:1095: Starting in XGBoost 1.3.0, the default evaluation metric used with the objective 'binary:logistic' was changed from 'error' to 'logloss'. Explicitly set eval_metric if you'd like to restore the old behavior.\n",
      "[11:20:54] WARNING: C:/Users/Administrator/workspace/xgboost-win64_release_1.4.0/src/learner.cc:1095: Starting in XGBoost 1.3.0, the default evaluation metric used with the objective 'binary:logistic' was changed from 'error' to 'logloss'. Explicitly set eval_metric if you'd like to restore the old behavior.\n",
      "[11:20:54] WARNING: C:/Users/Administrator/workspace/xgboost-win64_release_1.4.0/src/learner.cc:1095: Starting in XGBoost 1.3.0, the default evaluation metric used with the objective 'binary:logistic' was changed from 'error' to 'logloss'. Explicitly set eval_metric if you'd like to restore the old behavior.\n",
      "[11:20:54] WARNING: C:/Users/Administrator/workspace/xgboost-win64_release_1.4.0/src/learner.cc:1095: Starting in XGBoost 1.3.0, the default evaluation metric used with the objective 'binary:logistic' was changed from 'error' to 'logloss'. Explicitly set eval_metric if you'd like to restore the old behavior.\n",
      "[11:20:55] WARNING: C:/Users/Administrator/workspace/xgboost-win64_release_1.4.0/src/learner.cc:1095: Starting in XGBoost 1.3.0, the default evaluation metric used with the objective 'binary:logistic' was changed from 'error' to 'logloss'. Explicitly set eval_metric if you'd like to restore the old behavior.\n",
      "[11:20:55] WARNING: C:/Users/Administrator/workspace/xgboost-win64_release_1.4.0/src/learner.cc:1095: Starting in XGBoost 1.3.0, the default evaluation metric used with the objective 'binary:logistic' was changed from 'error' to 'logloss'. Explicitly set eval_metric if you'd like to restore the old behavior.\n",
      "[11:20:55] WARNING: C:/Users/Administrator/workspace/xgboost-win64_release_1.4.0/src/learner.cc:1095: Starting in XGBoost 1.3.0, the default evaluation metric used with the objective 'binary:logistic' was changed from 'error' to 'logloss'. Explicitly set eval_metric if you'd like to restore the old behavior.\n",
      "[11:20:55] WARNING: C:/Users/Administrator/workspace/xgboost-win64_release_1.4.0/src/learner.cc:1095: Starting in XGBoost 1.3.0, the default evaluation metric used with the objective 'binary:logistic' was changed from 'error' to 'logloss'. Explicitly set eval_metric if you'd like to restore the old behavior.\n",
      "[11:20:56] WARNING: C:/Users/Administrator/workspace/xgboost-win64_release_1.4.0/src/learner.cc:1095: Starting in XGBoost 1.3.0, the default evaluation metric used with the objective 'binary:logistic' was changed from 'error' to 'logloss'. Explicitly set eval_metric if you'd like to restore the old behavior.\n",
      "[11:20:56] WARNING: C:/Users/Administrator/workspace/xgboost-win64_release_1.4.0/src/learner.cc:1095: Starting in XGBoost 1.3.0, the default evaluation metric used with the objective 'binary:logistic' was changed from 'error' to 'logloss'. Explicitly set eval_metric if you'd like to restore the old behavior.\n",
      "GridSearch CV best score : 0.8023\n",
      "\n",
      "\n",
      "Parameters that give the best results : \n",
      "\n",
      " {'max_depth': 3}\n",
      "\n",
      "\n",
      "Estimator that was chosen by the search : \n",
      "\n",
      " XGBClassifier(alpha=10, base_score=0.5, booster='gbtree', colsample_bylevel=1,\n",
      "              colsample_bynode=1, colsample_bytree=1, gamma=0, gpu_id=-1,\n",
      "              importance_type='gain', interaction_constraints='',\n",
      "              learning_rate=1.0, max_delta_step=0, max_depth=3,\n",
      "              min_child_weight=1, missing=nan, monotone_constraints='()',\n",
      "              n_estimators=100, n_jobs=8, num_parallel_tree=1, random_state=0,\n",
      "              reg_alpha=10, reg_lambda=1, scale_pos_weight=1, subsample=1,\n",
      "              tree_method='exact', validate_parameters=1, verbosity=None)\n",
      "GridSearch CV score on test set: 0.7967\n"
     ]
    }
   ],
   "source": [
    "parameters = [{'max_depth':[3,4,5,6,7]}]\n",
    "\n",
    "\n",
    "\n",
    "grid_search = GridSearchCV(estimator = xgb_clf,  \n",
    "                           param_grid = parameters,\n",
    "                           scoring = 'accuracy',\n",
    "                           cv = 10,\n",
    "                           verbose=0)\n",
    "\n",
    "\n",
    "grid_search.fit(x_train, y_train)\n",
    "# best score achieved during the GridSearchCV\n",
    "print('GridSearch CV best score : {:.4f}\\n\\n'.format(grid_search.best_score_))\n",
    "\n",
    "# print parameters that give the best results\n",
    "print('Parameters that give the best results :','\\n\\n', (grid_search.best_params_))\n",
    "\n",
    "# print estimator that was chosen by the GridSearch\n",
    "print('\\n\\nEstimator that was chosen by the search :','\\n\\n', (grid_search.best_estimator_))\n",
    "\n",
    "print('GridSearch CV score on test set: {0:0.4f}'.format(grid_search.score(x_test, y_test)))"
   ]
  }
 ],
 "metadata": {
  "kernelspec": {
   "display_name": "Python 3",
   "language": "python",
   "name": "python3"
  },
  "language_info": {
   "codemirror_mode": {
    "name": "ipython",
    "version": 3
   },
   "file_extension": ".py",
   "mimetype": "text/x-python",
   "name": "python",
   "nbconvert_exporter": "python",
   "pygments_lexer": "ipython3",
   "version": "3.8.5"
  }
 },
 "nbformat": 4,
 "nbformat_minor": 4
}
